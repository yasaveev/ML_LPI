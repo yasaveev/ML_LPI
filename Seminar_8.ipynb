{
 "cells": [
  {
   "cell_type": "markdown",
   "metadata": {
    "id": "8494qv0QWozp"
   },
   "source": [
    "## Упражнения из 8 семинара"
   ]
  },
  {
   "cell_type": "code",
   "execution_count": 28,
   "metadata": {},
   "outputs": [],
   "source": [
    "import tensorflow as tf\n",
    "import numpy as np\n",
    "import tensorflow_datasets as tfds\n",
    "\n",
    "data_train = tfds.load(name=\"fashion_mnist\", split=\"train\").prefetch(60000).cache()\n",
    "data_test  = tfds.load(name=\"fashion_mnist\", split=\"test\" ).prefetch(10000).cache()"
   ]
  },
  {
   "cell_type": "markdown",
   "metadata": {
    "id": "hXYu5ujhrowp"
   },
   "source": [
    "### Ex. 1"
   ]
  },
  {
   "cell_type": "markdown",
   "metadata": {
    "id": "FCujyYCdrrrg"
   },
   "source": [
    "Move the preprocessing part out of the model into the dataset pipeline (using the `map` method)."
   ]
  },
  {
   "cell_type": "code",
   "execution_count": 54,
   "metadata": {},
   "outputs": [],
   "source": [
    "num_hidden = 64\n",
    "\n",
    "model = tf.keras.Sequential([\n",
    "    \n",
    "\n",
    "  # Densely connected hidden layer\n",
    "  tf.keras.layers.Dense(num_hidden, activation='relu'),\n",
    "\n",
    "  # Output layer (note there's no activation, not even softmax:\n",
    "  # this layer will output logits, there are pre-implemented\n",
    "  # loss functions in `keras` to work with such outputs)\n",
    "  tf.keras.layers.Dense(10)\n",
    "])\n",
    "\n",
    "model.compile(optimizer='adam',\n",
    "              loss=tf.losses.SparseCategoricalCrossentropy(from_logits=True),metrics = 'accuracy')"
   ]
  },
  {
   "cell_type": "code",
   "execution_count": 55,
   "metadata": {},
   "outputs": [
    {
     "name": "stdout",
     "output_type": "stream",
     "text": [
      "<CacheDataset shapes: {image: (28, 28, 1), label: ()}, types: {image: tf.uint8, label: tf.int64}>\n"
     ]
    }
   ],
   "source": [
    "print(data_train)"
   ]
  },
  {
   "cell_type": "markdown",
   "metadata": {
    "id": "FCujyYCdrrrg"
   },
   "source": [
    "При применении `reshape` к изображению возникала ошибка `TypeError: 'x' and 'y' must have the same dtype, got tf.uint8 != tf.float32`. Не знаю, почему подобной ошибки не возникало в семинаре, но лучшее что я придумал - изменить dtype командой `tf.cast`."
   ]
  },
  {
   "cell_type": "code",
   "execution_count": 56,
   "metadata": {},
   "outputs": [],
   "source": [
    "def reshape(x):  \n",
    "    x_new = tf.reshape(tf.cast(x['image'],dtype=tf.float32) / 255., (-1, 28*28))\n",
    "    return(x_new,x['label'])"
   ]
  },
  {
   "cell_type": "code",
   "execution_count": 57,
   "metadata": {},
   "outputs": [
    {
     "name": "stdout",
     "output_type": "stream",
     "text": [
      "Epoch 1/10\n",
      "59/59 [==============================] - 1s 5ms/step - loss: 0.9644 - accuracy: 0.6814 - val_loss: 0.6410 - val_accuracy: 0.7752\n",
      "Epoch 2/10\n",
      "59/59 [==============================] - 0s 5ms/step - loss: 0.5580 - accuracy: 0.8127 - val_loss: 0.5407 - val_accuracy: 0.8140\n",
      "Epoch 3/10\n",
      "59/59 [==============================] - 0s 5ms/step - loss: 0.4878 - accuracy: 0.8359 - val_loss: 0.4954 - val_accuracy: 0.8275\n",
      "Epoch 4/10\n",
      "59/59 [==============================] - 0s 4ms/step - loss: 0.4529 - accuracy: 0.8465 - val_loss: 0.4736 - val_accuracy: 0.8321\n",
      "Epoch 5/10\n",
      "59/59 [==============================] - 0s 5ms/step - loss: 0.4299 - accuracy: 0.8543 - val_loss: 0.4526 - val_accuracy: 0.8431\n",
      "Epoch 6/10\n",
      "59/59 [==============================] - 0s 5ms/step - loss: 0.4127 - accuracy: 0.8590 - val_loss: 0.4453 - val_accuracy: 0.8453\n",
      "Epoch 7/10\n",
      "59/59 [==============================] - 0s 4ms/step - loss: 0.4008 - accuracy: 0.8623 - val_loss: 0.4317 - val_accuracy: 0.8482\n",
      "Epoch 8/10\n",
      "59/59 [==============================] - 0s 4ms/step - loss: 0.3873 - accuracy: 0.8658 - val_loss: 0.4230 - val_accuracy: 0.8511\n",
      "Epoch 9/10\n",
      "59/59 [==============================] - 0s 4ms/step - loss: 0.3813 - accuracy: 0.8683 - val_loss: 0.4234 - val_accuracy: 0.8525\n",
      "Epoch 10/10\n",
      "59/59 [==============================] - 0s 4ms/step - loss: 0.3733 - accuracy: 0.8702 - val_loss: 0.4230 - val_accuracy: 0.8508\n"
     ]
    },
    {
     "data": {
      "text/plain": [
       "<keras.callbacks.History at 0x7fa07136af70>"
      ]
     },
     "execution_count": 57,
     "metadata": {},
     "output_type": "execute_result"
    }
   ],
   "source": [
    "batch_size = 1024\n",
    "model.fit(x=data_train.shuffle(60000).batch(batch_size).map(reshape),\n",
    "          epochs=10,\n",
    "          validation_data=data_test.batch(4096).map(reshape))"
   ]
  },
  {
   "cell_type": "markdown",
   "metadata": {
    "id": "FCujyYCdrrrg"
   },
   "source": [
    "Кажется, получилось!"
   ]
  },
  {
   "cell_type": "markdown",
   "metadata": {
    "id": "LYp5xgozr0GG"
   },
   "source": [
    "### Ex. 2"
   ]
  },
  {
   "cell_type": "markdown",
   "metadata": {
    "id": "R_kVluKKr2uM"
   },
   "source": [
    "Train a model with more layers."
   ]
  },
  {
   "cell_type": "code",
   "execution_count": 65,
   "metadata": {},
   "outputs": [],
   "source": [
    "num_hidden_1 = 64\n",
    "num_hidden_2 = 128\n",
    "num_hidden_3 = 32\n",
    "\n",
    "model = tf.keras.Sequential([\n",
    "    \n",
    "  tf.keras.layers.Lambda(\n",
    "      lambda x: tf.reshape(x / 255., (-1, 28*28)),\n",
    "      input_shape=(28, 28, 1), name='preprocessing'\n",
    "  ),\n",
    "    \n",
    "  # Densely connected hidden layer\n",
    "  tf.keras.layers.Dense(num_hidden_1, activation='relu'),\n",
    "  tf.keras.layers.Dense(num_hidden_2, activation='relu'),\n",
    "  tf.keras.layers.Dense(num_hidden_3, activation='relu'),\n",
    "\n",
    "  # Output layer (note there's no activation, not even softmax:\n",
    "  # this layer will output logits, there are pre-implemented\n",
    "  # loss functions in `keras` to work with such outputs)\n",
    "  tf.keras.layers.Dense(10)\n",
    "])\n",
    "\n",
    "model.compile(optimizer='adam',\n",
    "              loss=tf.losses.SparseCategoricalCrossentropy(from_logits=True),metrics = 'accuracy')"
   ]
  },
  {
   "cell_type": "code",
   "execution_count": 66,
   "metadata": {},
   "outputs": [],
   "source": [
    "def unwrap(x):\n",
    "    return(x['image'],x['label'])"
   ]
  },
  {
   "cell_type": "code",
   "execution_count": 67,
   "metadata": {},
   "outputs": [
    {
     "name": "stdout",
     "output_type": "stream",
     "text": [
      "Epoch 1/10\n",
      "59/59 [==============================] - 1s 7ms/step - loss: 1.0199 - accuracy: 0.6378 - val_loss: 0.6106 - val_accuracy: 0.7863\n",
      "Epoch 2/10\n",
      "59/59 [==============================] - 0s 6ms/step - loss: 0.5141 - accuracy: 0.8226 - val_loss: 0.4971 - val_accuracy: 0.8264\n",
      "Epoch 3/10\n",
      "59/59 [==============================] - 0s 6ms/step - loss: 0.4459 - accuracy: 0.8459 - val_loss: 0.4573 - val_accuracy: 0.8403\n",
      "Epoch 4/10\n",
      "59/59 [==============================] - 0s 6ms/step - loss: 0.4093 - accuracy: 0.8575 - val_loss: 0.4359 - val_accuracy: 0.8519\n",
      "Epoch 5/10\n",
      "59/59 [==============================] - 0s 6ms/step - loss: 0.3895 - accuracy: 0.8629 - val_loss: 0.4226 - val_accuracy: 0.8524\n",
      "Epoch 6/10\n",
      "59/59 [==============================] - 0s 6ms/step - loss: 0.3779 - accuracy: 0.8657 - val_loss: 0.4100 - val_accuracy: 0.8571\n",
      "Epoch 7/10\n",
      "59/59 [==============================] - 0s 6ms/step - loss: 0.3600 - accuracy: 0.8724 - val_loss: 0.4105 - val_accuracy: 0.8552\n",
      "Epoch 8/10\n",
      "59/59 [==============================] - 0s 6ms/step - loss: 0.3514 - accuracy: 0.8747 - val_loss: 0.3908 - val_accuracy: 0.8624\n",
      "Epoch 9/10\n",
      "59/59 [==============================] - 0s 6ms/step - loss: 0.3367 - accuracy: 0.8790 - val_loss: 0.4019 - val_accuracy: 0.8585\n",
      "Epoch 10/10\n",
      "59/59 [==============================] - 0s 6ms/step - loss: 0.3305 - accuracy: 0.8812 - val_loss: 0.3832 - val_accuracy: 0.8612\n"
     ]
    },
    {
     "data": {
      "text/plain": [
       "<keras.callbacks.History at 0x7fa01bc72490>"
      ]
     },
     "execution_count": 67,
     "metadata": {},
     "output_type": "execute_result"
    }
   ],
   "source": [
    "batch_size = 1024\n",
    "model.fit(x=data_train.map(unwrap).shuffle(60000).batch(batch_size),\n",
    "          epochs=10,\n",
    "          validation_data=data_test.map(unwrap).batch(4096))"
   ]
  },
  {
   "cell_type": "code",
   "execution_count": 68,
   "metadata": {},
   "outputs": [],
   "source": [
    "X_batches = []\n",
    "y_batches = []\n",
    "for batch in data_test.batch(4096):\n",
    "  X_batches.append(batch['image'].numpy().astype('float32'))\n",
    "  y_batches.append(batch['label'].numpy())\n",
    "\n",
    "X_test = np.concatenate(X_batches)\n",
    "y_test = np.concatenate(y_batches)\n",
    "def check_accuracy(model):\n",
    "  return (model(X_test).numpy().argmax(axis=1) == y_test).mean()\n",
    "\n"
   ]
  },
  {
   "cell_type": "code",
   "execution_count": 69,
   "metadata": {},
   "outputs": [
    {
     "data": {
      "text/plain": [
       "0.8612"
      ]
     },
     "execution_count": 69,
     "metadata": {},
     "output_type": "execute_result"
    }
   ],
   "source": [
    "check_accuracy(model)"
   ]
  },
  {
   "cell_type": "markdown",
   "metadata": {
    "id": "FCujyYCdrrrg"
   },
   "source": [
    "Значение чуть улучшилось по сравнению с 0.8508!"
   ]
  },
  {
   "cell_type": "code",
   "execution_count": 70,
   "metadata": {},
   "outputs": [
    {
     "name": "stdout",
     "output_type": "stream",
     "text": [
      "Model: \"sequential_12\"\n",
      "_________________________________________________________________\n",
      " Layer (type)                Output Shape              Param #   \n",
      "=================================================================\n",
      " preprocessing (Lambda)      (None, 784)               0         \n",
      "                                                                 \n",
      " dense_26 (Dense)            (None, 64)                50240     \n",
      "                                                                 \n",
      " dense_27 (Dense)            (None, 128)               8320      \n",
      "                                                                 \n",
      " dense_28 (Dense)            (None, 32)                4128      \n",
      "                                                                 \n",
      " dense_29 (Dense)            (None, 10)                330       \n",
      "                                                                 \n",
      "=================================================================\n",
      "Total params: 63,018\n",
      "Trainable params: 63,018\n",
      "Non-trainable params: 0\n",
      "_________________________________________________________________\n"
     ]
    }
   ],
   "source": [
    "model.summary()"
   ]
  },
  {
   "cell_type": "code",
   "execution_count": null,
   "metadata": {},
   "outputs": [],
   "source": []
  }
 ],
 "metadata": {
  "kernelspec": {
   "display_name": "Python 3",
   "language": "python",
   "name": "python3"
  },
  "language_info": {
   "codemirror_mode": {
    "name": "ipython",
    "version": 3
   },
   "file_extension": ".py",
   "mimetype": "text/x-python",
   "name": "python",
   "nbconvert_exporter": "python",
   "pygments_lexer": "ipython3",
   "version": "3.8.5"
  }
 },
 "nbformat": 4,
 "nbformat_minor": 4
}
