{
 "cells": [
  {
   "cell_type": "markdown",
   "metadata": {
    "colab_type": "text",
    "id": "view-in-github"
   },
   "source": [
    "<a href=\"https://colab.research.google.com/github/HSE-LAMBDA/MLatFIAN2021/blob/main/seminar03/MLatFIAN2021_seminar03_homework.ipynb\" target=\"_parent\"><img src=\"https://colab.research.google.com/assets/colab-badge.svg\" alt=\"Open In Colab\"/></a>"
   ]
  },
  {
   "cell_type": "markdown",
   "metadata": {
    "id": "VyNyFPNLVxuA"
   },
   "source": [
    "# Boston housing dataset"
   ]
  },
  {
   "cell_type": "markdown",
   "metadata": {
    "id": "UAiD9r1mV5ka"
   },
   "source": [
    "Use the data and model from the seminar:"
   ]
  },
  {
   "cell_type": "code",
   "execution_count": 3,
   "metadata": {
    "id": "gIxJDCLGXJ6W"
   },
   "outputs": [],
   "source": [
    "import matplotlib.pyplot as plt\n",
    "from sklearn.datasets import load_boston\n",
    "import pandas as pd\n",
    "import numpy as np\n",
    "\n",
    "from sklearn.linear_model import Ridge\n",
    "from sklearn.pipeline import make_pipeline\n",
    "from sklearn.preprocessing import PolynomialFeatures\n",
    "from sklearn.metrics import mean_squared_error\n",
    "from sklearn.model_selection import train_test_split"
   ]
  },
  {
   "cell_type": "code",
   "execution_count": 47,
   "metadata": {
    "id": "20pkSnXwX5fW"
   },
   "outputs": [
    {
     "data": {
      "text/plain": [
       "506"
      ]
     },
     "execution_count": 47,
     "metadata": {},
     "output_type": "execute_result"
    }
   ],
   "source": [
    "columns = [\"CRIM\", \"RM\", \"LSTAT\"]\n",
    "\n",
    "data = load_boston()\n",
    "X = pd.DataFrame(data.data, columns=data.feature_names)[columns]\n",
    "X /= X.max()\n",
    "y = data.target\n"
   ]
  },
  {
   "cell_type": "code",
   "execution_count": 42,
   "metadata": {
    "id": "O1yoR0D2fZcM"
   },
   "outputs": [
    {
     "name": "stdout",
     "output_type": "stream",
     "text": [
      "train mse =  19.312028078112924\n",
      "test mse =  8.517501881762882\n"
     ]
    }
   ],
   "source": [
    "X_train, X_test, y_train, y_test = train_test_split(X, y, test_size=50, random_state=42)\n",
    "\n",
    "model = make_pipeline(\n",
    "    PolynomialFeatures(9, include_bias=False),\n",
    "    Ridge(alpha=0.1)\n",
    ")\n",
    "\n",
    "model.fit(X_train, y_train)\n",
    "\n",
    "print('train mse = ', mean_squared_error(y_train, model.predict(X_train)))\n",
    "print('test mse = ', mean_squared_error(y_test, model.predict(X_test)))"
   ]
  },
  {
   "cell_type": "markdown",
   "metadata": {
    "id": "ercMxDDhkddQ"
   },
   "source": [
    "# Task 1"
   ]
  },
  {
   "cell_type": "markdown",
   "metadata": {
    "id": "S1PKO5ebkjsM"
   },
   "source": [
    "Use `sklearn.model_selection.cross_validate` to perform K-fold cross-validation of the model above. Plot histograms of train and test scores (`\"neg_mean_squared_error\"`) on the same plot.\n",
    "\n",
    "Do that for 10 and 100 folds.\n",
    "\n",
    "See the docs for more details about the function: https://scikit-learn.org/stable/modules/generated/sklearn.model_selection.cross_validate.html"
   ]
  },
  {
   "cell_type": "markdown",
   "metadata": {
    "id": "ercMxDDhkddQ"
   },
   "source": [
    "Как я понимаю, кросс-валидация предполагает деление датасета на k-равных частей. Затем последовательно один из них откладывается в сторону, можель тренируется на (k-1) части, а тестируются предсказания модели на оставшемся. Такая процедура проводится для каждой части. "
   ]
  },
  {
   "cell_type": "code",
   "execution_count": 43,
   "metadata": {
    "id": "8mPbo3d8gG-w"
   },
   "outputs": [],
   "source": [
    "from sklearn.model_selection import cross_validate"
   ]
  },
  {
   "cell_type": "code",
   "execution_count": 53,
   "metadata": {
    "id": "uRjHKo-MkxJX"
   },
   "outputs": [
    {
     "data": {
      "text/plain": [
       "{'fit_time': array([0.00595212, 0.01656818, 0.01986551, 0.00695276, 0.00703406,\n",
       "        0.04910374, 0.00859356, 0.00673366, 0.00782132, 0.00929832]),\n",
       " 'score_time': array([0.00238585, 0.00545335, 0.00248909, 0.00229859, 0.00243926,\n",
       "        0.00267339, 0.00851917, 0.00244498, 0.00283265, 0.00733805]),\n",
       " 'test_score': array([  -7.20636571,   -6.61068729,   -4.15868207,  -24.7825149 ,\n",
       "         -17.72468543,  -20.63837964,  -15.54042827, -106.53803875,\n",
       "         -18.75457154,  -14.01189426]),\n",
       " 'train_score': array([-19.41000981, -19.55200553, -19.74665546, -17.92316363,\n",
       "        -18.3512475 , -18.34681105, -18.82330278, -10.74271081,\n",
       "        -18.3496723 , -18.61162265])}"
      ]
     },
     "execution_count": 53,
     "metadata": {},
     "output_type": "execute_result"
    }
   ],
   "source": [
    "cross_validate(model, X, y, cv=10, scoring='neg_mean_squared_error', return_train_score=True)"
   ]
  },
  {
   "cell_type": "code",
   "execution_count": 54,
   "metadata": {},
   "outputs": [],
   "source": [
    "cross_val = cross_validate(model, X, y, cv=10, scoring='neg_mean_squared_error', return_train_score=True)"
   ]
  },
  {
   "cell_type": "code",
   "execution_count": 55,
   "metadata": {},
   "outputs": [
    {
     "data": {
      "image/png": "[encoded data removed]",
      "text/plain": [
       "<Figure size 432x288 with 1 Axes>"
      ]
     },
     "metadata": {
      "needs_background": "light"
     },
     "output_type": "display_data"
    }
   ],
   "source": [
    "bins = np.linspace(-110,0,26)\n",
    "plt.hist(cross_val['test_score'],bins,label = 'test score')\n",
    "plt.hist(cross_val['train_score'],bins,label = 'train score')\n",
    "plt.legend()\n",
    "plt.show()"
   ]
  },
  {
   "cell_type": "code",
   "execution_count": 22,
   "metadata": {},
   "outputs": [
    {
     "data": {
      "text/plain": [
       "{'fit_time': array([0.00721383, 0.01057076, 0.02670646, 0.01196122, 0.00650001,\n",
       "        0.04060936, 0.01309657, 0.03363347, 0.00780392, 0.00715613,\n",
       "        0.01042891, 0.00699306, 0.00662017, 0.00675917, 0.02476144,\n",
       "        0.00788331, 0.01224446, 0.00826812, 0.00761795, 0.00752401,\n",
       "        0.00898838, 0.00702763, 0.00714588, 0.00931501, 0.00715971,\n",
       "        0.00765276, 0.00701594, 0.00683808, 0.00681138, 0.00657439,\n",
       "        0.00693321, 0.00672626, 0.00702381, 0.00657535, 0.00935245,\n",
       "        0.00682974, 0.04885101, 0.01136756, 0.00659943, 0.00643373,\n",
       "        0.00642467, 0.00704074, 0.0098834 , 0.00948715, 0.0109334 ,\n",
       "        0.01106238, 0.01122856, 0.02591991, 0.01222348, 0.01812196,\n",
       "        0.00712252, 0.00767684, 0.00818229, 0.01042843, 0.02628326,\n",
       "        0.00720048, 0.00622034, 0.00666714, 0.00644708, 0.00632858,\n",
       "        0.00636339, 0.00709963, 0.00634694, 0.00635839, 0.00768924,\n",
       "        0.0049355 , 0.00512552, 0.00503731, 0.00495768, 0.0048728 ,\n",
       "        0.00625539, 0.00632977, 0.00637507, 0.00641847, 0.00642323,\n",
       "        0.00707746, 0.00751352, 0.00781012, 0.00685406, 0.00697303,\n",
       "        0.00693583, 0.00800085, 0.0075624 , 0.00801301, 0.0069499 ,\n",
       "        0.00694919, 0.00691128, 0.00695252, 0.00716782, 0.0068922 ,\n",
       "        0.00711799, 0.00692105, 0.00713277, 0.0070231 , 0.00689816,\n",
       "        0.00753546, 0.00761771, 0.00711465, 0.00694633, 0.00692916]),\n",
       " 'score_time': array([0.00243211, 0.00274205, 0.00255132, 0.00250554, 0.00258493,\n",
       "        0.00286555, 0.00302339, 0.0023613 , 0.00219345, 0.00220847,\n",
       "        0.00259495, 0.00263023, 0.00252295, 0.00221634, 0.00304532,\n",
       "        0.00297832, 0.00237775, 0.00223613, 0.00225282, 0.00221801,\n",
       "        0.00231242, 0.00264454, 0.00222206, 0.00217891, 0.002249  ,\n",
       "        0.0023427 , 0.00265265, 0.00237012, 0.00214577, 0.00227237,\n",
       "        0.00269127, 0.00214601, 0.00214458, 0.00267124, 0.00235939,\n",
       "        0.00251937, 0.00192642, 0.00245118, 0.002244  , 0.00239277,\n",
       "        0.00218296, 0.00227952, 0.00248575, 0.00250077, 0.00256371,\n",
       "        0.0026226 , 0.00246525, 0.00263643, 0.00250077, 0.00276279,\n",
       "        0.00220013, 0.00225401, 0.00234485, 0.00254989, 0.00298786,\n",
       "        0.002352  , 0.00301075, 0.00221705, 0.00213933, 0.0021677 ,\n",
       "        0.00247073, 0.00214696, 0.00217891, 0.01866531, 0.00288868,\n",
       "        0.00177121, 0.0015986 , 0.00158167, 0.00160003, 0.00173497,\n",
       "        0.00214911, 0.00214767, 0.00209498, 0.00227308, 0.00218058,\n",
       "        0.00234389, 0.0022912 , 0.00226641, 0.00247049, 0.002846  ,\n",
       "        0.00232863, 0.0024004 , 0.00250101, 0.00228763, 0.00221705,\n",
       "        0.00275779, 0.00243211, 0.00240922, 0.00223684, 0.00250483,\n",
       "        0.00261426, 0.00232601, 0.00232267, 0.00235271, 0.00266719,\n",
       "        0.00271773, 0.00245261, 0.00287986, 0.00221395, 0.00229931]),\n",
       " 'test_score': array([  -7.5037103 ,  -21.72911044,   -7.26088434,   -1.92434583,\n",
       "          -6.43401544,   -9.90428278,   -2.69601809,   -4.01154906,\n",
       "          -1.44320371,   -3.37570498,   -2.98726903,  -11.34901573,\n",
       "          -2.40039229,   -3.599519  ,   -2.02285868,   -3.14125226,\n",
       "         -18.44358768,   -3.74871848,   -7.13385147,   -5.11084872,\n",
       "          -3.51037157,   -4.56518529,   -4.72193577,   -7.36777538,\n",
       "          -2.99292102,   -0.95621091,   -3.0289503 ,   -3.5787527 ,\n",
       "          -4.18083546,   -5.59896845,  -21.56550348,  -29.09340294,\n",
       "         -14.56698997,   -6.1003998 ,  -10.21617168,  -76.13326993,\n",
       "         -25.90338118,   -8.23460041,   -3.92598789,  -14.15272499,\n",
       "         -24.69581693,  -33.99498216,  -10.74624505,  -10.87896231,\n",
       "         -24.08408966,  -21.80842267,  -10.47813132,   -4.68941335,\n",
       "          -4.39249443,  -14.42677649,  -16.6685125 ,  -37.86090574,\n",
       "         -44.9604693 ,   -1.35253052,   -8.18093491,  -18.41539781,\n",
       "          -6.41473642,   -1.54558389,  -15.68486434,   -7.38509233,\n",
       "         -11.86443321,   -7.61102428,   -2.37104067,   -7.62454603,\n",
       "          -7.73966957,  -15.6008199 ,   -7.92128115,  -22.35989027,\n",
       "         -16.31938498,  -15.70733584,   -2.92767412, -223.1311206 ,\n",
       "        -337.84877489, -331.47467881,   -9.43806823,   -7.15137218,\n",
       "          -4.03540534,  -21.94339173,  -15.65673874,  -16.92908258,\n",
       "         -68.57020819,  -18.0223436 ,   -8.85304811,   -9.27743268,\n",
       "         -17.86805287,  -16.27509467,   -6.92658111,   -1.39751115,\n",
       "         -10.91987325,   -4.78222447,   -6.91735292,   -3.71007728,\n",
       "         -12.48655774,   -9.26186784,   -1.69116847,   -8.61694145,\n",
       "         -25.7524838 ,  -17.4004125 ,   -5.25452053,  -51.54236919]),\n",
       " 'train_score': array([-18.28271541, -18.12070784, -18.29165428, -18.34327626,\n",
       "        -18.29436672, -18.25172031, -18.30053639, -18.29421096,\n",
       "        -18.31593352, -18.30243935, -18.30899812, -18.22920249,\n",
       "        -18.31528264, -18.30490651, -18.31604348, -18.30507984,\n",
       "        -18.14099443, -18.30143072, -18.25363106, -18.28492629,\n",
       "        -18.29750773, -18.29046041, -18.28418636, -18.26517336,\n",
       "        -18.30470312, -18.32234266, -18.29865583, -18.29632178,\n",
       "        -18.29512465, -18.27383997, -18.12635979, -18.11275907,\n",
       "        -18.20339018, -18.26912466, -18.24170794, -17.55934364,\n",
       "        -18.10793357, -18.27099675, -18.29124874, -18.2313585 ,\n",
       "        -18.09787103, -18.02451692, -18.22210423, -18.22991154,\n",
       "        -18.08599081, -18.1043589 , -18.2235221 , -18.28993524,\n",
       "        -18.29007852, -18.18823287, -18.18312354, -17.98594383,\n",
       "        -17.91519633, -18.31652725, -18.2624685 , -18.19562277,\n",
       "        -18.2691295 , -18.31903585, -18.17408298, -18.26298293,\n",
       "        -18.21069996, -18.26817474, -18.30920805, -18.26770457,\n",
       "        -18.26547094, -18.1985536 , -18.27122491, -18.120286  ,\n",
       "        -18.17808882, -18.19631004, -18.30208662, -16.88001178,\n",
       "        -15.51917305, -15.14639236, -18.24109413, -18.27350466,\n",
       "        -18.29808735, -18.11168213, -18.17850768, -18.15089568,\n",
       "        -17.6397161 , -18.15854719, -18.25562347, -18.24180418,\n",
       "        -18.16508982, -18.17146454, -18.27043532, -18.31837139,\n",
       "        -18.22305866, -18.28394401, -18.26026021, -18.29424567,\n",
       "        -18.21832256, -18.24155823, -18.31621833, -18.23716958,\n",
       "        -18.06721399, -18.15370594, -18.28496253, -17.83772687])}"
      ]
     },
     "execution_count": 22,
     "metadata": {},
     "output_type": "execute_result"
    }
   ],
   "source": []
  },
  {
   "cell_type": "code",
   "execution_count": 19,
   "metadata": {},
   "outputs": [],
   "source": [
    "cross_val_100 = cross_validate(model, X, y, cv=100, scoring='neg_mean_squared_error', return_train_score=True)"
   ]
  },
  {
   "cell_type": "code",
   "execution_count": 23,
   "metadata": {},
   "outputs": [
    {
     "data": {
      "image/png": "[encoded data removed]",
      "text/plain": [
       "<Figure size 432x288 with 1 Axes>"
      ]
     },
     "metadata": {
      "needs_background": "light"
     },
     "output_type": "display_data"
    }
   ],
   "source": [
    "bins = np.linspace(-350,0,70)\n",
    "plt.hist(cross_val_100['test_score'],bins,label = 'test score')\n",
    "plt.hist(cross_val_100['train_score'],bins,label = 'train score')\n",
    "plt.legend()\n",
    "plt.show()\n"
   ]
  },
  {
   "cell_type": "markdown",
   "metadata": {
    "id": "ercMxDDhkddQ"
   },
   "source": [
    "Не совсем понятно, как интерпретировать этот результат. Как мы видим, ошибка теста имеет некоторое нетривиальное распределение, в то время как ошибка при тренировке - нечто близкое дельта-функции. Интересно, что при увеличении параметра регуляризации $\\alpha$ (сейчас он равен 0.1) подобное явление не исчезает."
   ]
  }
 ],
 "metadata": {
  "colab": {
   "authorship_tag": "ABX9TyNiKNi7DtMUBbiRLPa6p7AD",
   "include_colab_link": true,
   "name": "MLatFIAN2021-seminar03-homework.ipynb",
   "provenance": [],
   "toc_visible": true
  },
  "kernelspec": {
   "display_name": "Python 3",
   "language": "python",
   "name": "python3"
  },
  "language_info": {
   "codemirror_mode": {
    "name": "ipython",
    "version": 3
   },
   "file_extension": ".py",
   "mimetype": "text/x-python",
   "name": "python",
   "nbconvert_exporter": "python",
   "pygments_lexer": "ipython3",
   "version": "3.8.5"
  }
 },
 "nbformat": 4,
 "nbformat_minor": 4
}
