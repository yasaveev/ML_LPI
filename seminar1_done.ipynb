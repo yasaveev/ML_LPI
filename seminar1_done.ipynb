{
 "cells": [
  {
   "cell_type": "markdown",
   "metadata": {
    "colab_type": "text",
    "id": "view-in-github"
   },
   "source": [
    "<a href=\"https://colab.research.google.com/github/HSE-LAMBDA/MLatFIAN2021/blob/main/seminar01/MLatFIAN2021_seminar01_DataHandling.ipynb\" target=\"_parent\"><img src=\"https://colab.research.google.com/assets/colab-badge.svg\" alt=\"Open In Colab\"/></a>"
   ]
  },
  {
   "cell_type": "markdown",
   "metadata": {
    "id": "n_nitmHugcSH"
   },
   "source": [
    "# Welcome"
   ]
  },
  {
   "cell_type": "markdown",
   "metadata": {
    "id": "pfojW1Laghph"
   },
   "source": [
    "During the practical sessions of the course we are going to use [Python programming language](https://www.python.org) in the [Google Colab environment](https://colab.research.google.com). Alternatively you can download some other python distribution, e.g. [anaconda](https://www.anaconda.com/) and run jupyter locally (see the [docs](https://jupyter.readthedocs.io/en/latest/running.html) for more info).\n",
    " \n",
    " If you are new to Python, please consider reading through the following tutorial:\n",
    " - https://docs.python.org/3.6/tutorial/\n",
    "\n",
    "In particular, the following parts of it should provide a more or less comprehensive introduction to the must-know basics:\n",
    "   - https://docs.python.org/3.6/tutorial/introduction.html\n",
    "   - https://docs.python.org/3.6/tutorial/controlflow.html\n",
    "   - https://docs.python.org/3.6/tutorial/datastructures.html\n",
    "   - https://docs.python.org/3.6/tutorial/modules.html\n",
    "   - https://docs.python.org/3.6/tutorial/classes.html"
   ]
  },
  {
   "cell_type": "markdown",
   "metadata": {
    "id": "wNKpO_suinc-"
   },
   "source": [
    "An overview of basic features of the Google Colab environment can be found [here](https://colab.research.google.com/notebooks/basic_features_overview.ipynb)."
   ]
  },
  {
   "cell_type": "markdown",
   "metadata": {
    "id": "Aw1cuRi7hhzz"
   },
   "source": [
    "# Titanic: Machine Learning from Disaster"
   ]
  },
  {
   "cell_type": "markdown",
   "metadata": {
    "id": "w3muhqoaJXVL"
   },
   "source": [
    "![\"Untergang der Titanic\", as conceived by Willy Stöwer, 1912](https://upload.wikimedia.org/wikipedia/commons/6/6e/St%C3%B6wer_Titanic.jpg)\n",
    "\n",
    "This notebook's gonna teach you to use the basic data science stack for python: jupyter, numpy, matplotlib and sklearn."
   ]
  },
  {
   "cell_type": "markdown",
   "metadata": {
    "id": "I_J_iM9Hjwc3"
   },
   "source": [
    "## Part I: Jupyter notebooks recap"
   ]
  },
  {
   "cell_type": "markdown",
   "metadata": {
    "id": "lyB4dc4Lt7xp"
   },
   "source": [
    "This whole document you are looking at right now is a **jupyter notebook**. You can think of jupyter as of a browser-friendly python development environment.\n",
    "\n",
    "For each notebook there's a python interpreter running behind the scenes, also called a **kernel**. The notebook consists of **cells** - either *code* cells, or *text* cells. E.g. this text you're reading is in a text cell.\n",
    "\n",
    "An example of a code cell can be found below. You can execute its code by placing the coursor in it and hitting `Shift + Enter`.\n",
    "\n",
    "__please keep running all the code cells as you read__"
   ]
  },
  {
   "cell_type": "code",
   "execution_count": 1,
   "metadata": {
    "id": "pJak2EJ-vEYd"
   },
   "outputs": [
    {
     "name": "stdout",
     "output_type": "stream",
     "text": [
      "Hello world\n"
     ]
    }
   ],
   "source": [
    "print('Hello world')"
   ]
  },
  {
   "cell_type": "markdown",
   "metadata": {
    "id": "HMZCQoKzvMJv"
   },
   "source": [
    "Note that same python session is used to run the code from different cells. So, for example, by defining a variable in one cell, you can re-use it in another:"
   ]
  },
  {
   "cell_type": "code",
   "execution_count": 2,
   "metadata": {
    "id": "yeSmID9LvKgS"
   },
   "outputs": [],
   "source": [
    "some_number = 42"
   ]
  },
  {
   "cell_type": "code",
   "execution_count": 3,
   "metadata": {
    "id": "K7o2AxcoveeN"
   },
   "outputs": [
    {
     "data": {
      "text/plain": [
       "1764"
      ]
     },
     "execution_count": 3,
     "metadata": {},
     "output_type": "execute_result"
    }
   ],
   "source": [
    "some_number**2"
   ]
  },
  {
   "cell_type": "markdown",
   "metadata": {
    "id": "s9QW0Uojvlxh"
   },
   "source": [
    "Jupyter allows you to run cells in an arbitrary order, which may make your code a bit messy and complicated to debug. In general it's a good practice to write your code such that it successfully runs from top to bottom in a clean environment. To reset your environment back to a clean state click `Runtime -> Restart runtime` (in regular jupter: `Kernel -> Restart`)."
   ]
  },
  {
   "cell_type": "markdown",
   "metadata": {
    "id": "De2BsSxGJXVV"
   },
   "source": [
    "**The most important feature** of jupyter notebooks for this course: \n",
    "* contextual help: the behaviour depends on whether you're running this in google colab or in regular jupyter.\n",
    "  * In colab the suggestions / documentation will appear automatically as you type.\n",
    "  * In regular jupyter if you're typing something, press `Tab` to see automatic suggestions / `Shift + Tab` for function documentation.\n",
    "\n",
    "*Note: here we'll assume you're using google colab*"
   ]
  },
  {
   "cell_type": "code",
   "execution_count": 4,
   "metadata": {
    "id": "5oQdc9MIJXVW"
   },
   "outputs": [],
   "source": [
    "# run this first\n",
    "import math"
   ]
  },
  {
   "cell_type": "code",
   "execution_count": null,
   "metadata": {
    "id": "4FZxJodmJXVZ"
   },
   "outputs": [],
   "source": [
    "# Place your cursor at the end of the unfinished line below and \n",
    "# type in '.' to see the contextual help and\n",
    "# find a function that computes arctangent from two parameters (should\n",
    "# have 2 in it's name).\n",
    "# Once you chose it, put an opening bracket character to\n",
    "# see the docs.\n",
    "\n",
    "math. # <--- type in a '.' symbol to see suggestions"
   ]
  },
  {
   "cell_type": "markdown",
   "metadata": {
    "id": "-cY1PEyznRYw"
   },
   "source": [
    "## Part II: Numpy and vectorized computing"
   ]
  },
  {
   "cell_type": "markdown",
   "metadata": {
    "id": "4luG6vWXJXWU"
   },
   "source": [
    "Almost any machine learning model requires some computational heavy lifting usually involving linear algebra problems. Unfortunately, raw python is terrible at this because each operation is interpreted at runtime. \n",
    "\n",
    "So instead, we'll use `numpy` - a library that lets you run blazing fast computation with vectors, matrices and other tensors. It's written in lower-level programming languages like C or Fortran and only uses python as an interface.\n",
    "\n",
    "Quoting [documentation](https://numpy.org/devdocs/user/quickstart.html):\n",
    "> NumPy’s main object is the homogeneous multidimensional array. It is a table of elements (usually numbers), all of the same type, indexed by a tuple of non-negative integers. In NumPy dimensions are called axes.\n",
    "\n",
    "\n",
    "\n",
    "\n",
    "This object is called `numpy.ndarray` (\"nd\" standing for \"N-dimensional\"). It is also aliased to `numpy.array`:"
   ]
  },
  {
   "cell_type": "code",
   "execution_count": 2,
   "metadata": {
    "id": "gcTokNL-JXWV"
   },
   "outputs": [
    {
     "name": "stdout",
     "output_type": "stream",
     "text": [
      "a =  [1 2 3 4 5]\n",
      "b =  [5 4 3 2 1]\n",
      "a + 1 = [2 3 4 5 6]\n",
      "a * 2 = [ 2  4  6  8 10]\n",
      "a == 2 [False  True False False False]\n",
      "a + b = [6 6 6 6 6]\n",
      "a * b = [5 8 9 8 5]\n"
     ]
    }
   ],
   "source": [
    "import numpy as np\n",
    "\n",
    "a = np.array([1,2,3,4,5])\n",
    "b = np.array([5,4,3,2,1])\n",
    "print(\"a = \", a)\n",
    "print(\"b = \", b)\n",
    "\n",
    "# math and boolean operations can applied to each element of an array\n",
    "print(\"a + 1 =\", a + 1)\n",
    "print(\"a * 2 =\", a * 2)\n",
    "print(\"a == 2\", a == 2)\n",
    "# ... or corresponding elements of two (or more) arrays\n",
    "print(\"a + b =\", a + b)\n",
    "print(\"a * b =\", a * b)"
   ]
  },
  {
   "cell_type": "code",
   "execution_count": 3,
   "metadata": {
    "id": "40slF_H1JXWY"
   },
   "outputs": [
    {
     "name": "stdout",
     "output_type": "stream",
     "text": [
      "0.5*(a*b) = [2.5 4.  4.5 4.  2.5]\n"
     ]
    }
   ],
   "source": [
    "# Your turn: compute half-products of a and b elements (halves of products)\n",
    "print(\"0.5*(a*b) =\", a * b/2)"
   ]
  },
  {
   "cell_type": "code",
   "execution_count": 4,
   "metadata": {
    "id": "EnNXgtaaJXWa"
   },
   "outputs": [
    {
     "name": "stdout",
     "output_type": "stream",
     "text": [
      "a^2/(b+1) = [ 0.16666667  0.8         2.25        5.33333333 12.5       ]\n"
     ]
    }
   ],
   "source": [
    "# compute elementwise quotient between squared a and (b plus 1)\n",
    "print(\"a^2/(b+1) =\", a ** 2 / (b+1))"
   ]
  },
  {
   "cell_type": "markdown",
   "metadata": {
    "id": "KSkrSyKTnJBp"
   },
   "source": [
    "```\n",
    "\n",
    "```\n",
    "\n",
    "```\n",
    "\n",
    "```\n",
    "\n",
    "```\n",
    "\n",
    "```\n",
    "\n",
    "```\n",
    "\n",
    "```\n",
    "\n",
    "```\n",
    "\n",
    "```"
   ]
  },
  {
   "cell_type": "markdown",
   "metadata": {
    "id": "uHV6HlQgoL-r"
   },
   "source": [
    "There's a number of functions to create arrays of zeros, ones, ascending/descending numbers etc.:"
   ]
  },
  {
   "cell_type": "code",
   "execution_count": 5,
   "metadata": {
    "id": "dCqkfcCWoi1I"
   },
   "outputs": [
    {
     "data": {
      "text/plain": [
       "array([[0., 0., 0., 0.],\n",
       "       [0., 0., 0., 0.],\n",
       "       [0., 0., 0., 0.]])"
      ]
     },
     "execution_count": 5,
     "metadata": {},
     "output_type": "execute_result"
    }
   ],
   "source": [
    "np.zeros(shape=(3, 4))"
   ]
  },
  {
   "cell_type": "code",
   "execution_count": 6,
   "metadata": {
    "id": "NAee3VdtorX8"
   },
   "outputs": [
    {
     "data": {
      "text/plain": [
       "array([[ True,  True,  True,  True,  True],\n",
       "       [ True,  True,  True,  True,  True]])"
      ]
     },
     "execution_count": 6,
     "metadata": {},
     "output_type": "execute_result"
    }
   ],
   "source": [
    "np.ones(shape=(2, 5), dtype=np.bool)"
   ]
  },
  {
   "cell_type": "code",
   "execution_count": 7,
   "metadata": {
    "id": "ymW4lMqpozFn"
   },
   "outputs": [
    {
     "data": {
      "text/plain": [
       "array([ 3,  5,  7,  9, 11, 13])"
      ]
     },
     "execution_count": 7,
     "metadata": {},
     "output_type": "execute_result"
    }
   ],
   "source": [
    "np.arange(3, 15, 2) # start, stop, step"
   ]
  },
  {
   "cell_type": "code",
   "execution_count": 8,
   "metadata": {
    "id": "KQi-FGqto_ty"
   },
   "outputs": [
    {
     "data": {
      "text/plain": [
       "array([ 0.,  1.,  2.,  3.,  4.,  5.,  6.,  7.,  8.,  9., 10.])"
      ]
     },
     "execution_count": 8,
     "metadata": {},
     "output_type": "execute_result"
    }
   ],
   "source": [
    "np.linspace(0, 10, 11) # divide [0, 10] interval into 11 points"
   ]
  },
  {
   "cell_type": "code",
   "execution_count": 11,
   "metadata": {
    "id": "7d7MlvuqpJ0S"
   },
   "outputs": [
    {
     "data": {
      "text/plain": [
       "array([ 2,  4,  8, 16, 32])"
      ]
     },
     "execution_count": 11,
     "metadata": {},
     "output_type": "execute_result"
    }
   ],
   "source": [
    "np.logspace(1, 5, 5, base=2, dtype=np.int64)"
   ]
  },
  {
   "cell_type": "markdown",
   "metadata": {
    "id": "C4hb3shSpdBf"
   },
   "source": [
    "You can easily reshape arrays:"
   ]
  },
  {
   "cell_type": "code",
   "execution_count": 13,
   "metadata": {
    "id": "83xNeecTphm4"
   },
   "outputs": [
    {
     "data": {
      "text/plain": [
       "array([ 0,  1,  2,  3,  4,  5,  6,  7,  8,  9, 10, 11, 12, 13, 14, 15, 16,\n",
       "       17, 18, 19, 20, 21, 22, 23])"
      ]
     },
     "execution_count": 13,
     "metadata": {},
     "output_type": "execute_result"
    }
   ],
   "source": [
    "np.arange(24)\n"
   ]
  },
  {
   "cell_type": "code",
   "execution_count": 15,
   "metadata": {},
   "outputs": [
    {
     "data": {
      "text/plain": [
       "array([[[[ 0,  1],\n",
       "         [ 2,  3]],\n",
       "\n",
       "        [[ 4,  5],\n",
       "         [ 6,  7]],\n",
       "\n",
       "        [[ 8,  9],\n",
       "         [10, 11]]],\n",
       "\n",
       "\n",
       "       [[[12, 13],\n",
       "         [14, 15]],\n",
       "\n",
       "        [[16, 17],\n",
       "         [18, 19]],\n",
       "\n",
       "        [[20, 21],\n",
       "         [22, 23]]]])"
      ]
     },
     "execution_count": 15,
     "metadata": {},
     "output_type": "execute_result"
    }
   ],
   "source": [
    "np.arange(24).reshape(2, 3, 2,2)"
   ]
  },
  {
   "cell_type": "markdown",
   "metadata": {
    "id": "F_evgKCtpzpk"
   },
   "source": [
    "or add dimensions of size 1:"
   ]
  },
  {
   "cell_type": "code",
   "execution_count": 18,
   "metadata": {
    "id": "It_JTbIiqCTH"
   },
   "outputs": [
    {
     "name": "stdout",
     "output_type": "stream",
     "text": [
      "[[0]\n",
      " [1]\n",
      " [2]]\n",
      "---\n",
      "[[0 1 2]]\n",
      "---\n",
      "---\n",
      "[[0]\n",
      " [1]\n",
      " [2]]\n",
      "---\n",
      "[[0 1 2]]\n"
     ]
    }
   ],
   "source": [
    "print(np.arange(3)[:, np.newaxis])\n",
    "print('---')\n",
    "print(np.arange(3)[np.newaxis, :])\n",
    "\n",
    "#### Or similarly:\n",
    "print('---')\n",
    "print('---')\n",
    "\n",
    "print(np.arange(3)[:, None])\n",
    "print('---')\n",
    "print(np.arange(3)[None, :])"
   ]
  },
  {
   "cell_type": "markdown",
   "metadata": {
    "id": "4eE5Uq8GqO75"
   },
   "source": [
    "Such dimensions are automatically broadcast when doing mathematical operations:"
   ]
  },
  {
   "cell_type": "code",
   "execution_count": 20,
   "metadata": {
    "id": "VmO2UtjtqcEU"
   },
   "outputs": [
    {
     "name": "stdout",
     "output_type": "stream",
     "text": [
      "[[0 0 0]\n",
      " [1 1 1]\n",
      " [2 2 2]]\n",
      "\n"
     ]
    },
    {
     "data": {
      "text/plain": [
       "numpy.ndarray"
      ]
     },
     "execution_count": 20,
     "metadata": {},
     "output_type": "execute_result"
    }
   ],
   "source": [
    "print(np.arange(3)[:, np.newaxis] + np.zeros(shape=(3, 3), dtype=int))\n",
    "print()\n"
   ]
  },
  {
   "cell_type": "code",
   "execution_count": 21,
   "metadata": {},
   "outputs": [
    {
     "name": "stdout",
     "output_type": "stream",
     "text": [
      "[[0 1 2]\n",
      " [0 1 2]\n",
      " [0 1 2]]\n"
     ]
    }
   ],
   "source": [
    "print(np.arange(3)[np.newaxis, :] + np.zeros(shape=(3, 3), dtype=int))"
   ]
  },
  {
   "cell_type": "markdown",
   "metadata": {
    "id": "pfmFlVopqzId"
   },
   "source": [
    "There is also a number of ways to stack arrays together:"
   ]
  },
  {
   "cell_type": "code",
   "execution_count": 22,
   "metadata": {
    "id": "WzfKzymGq3wX"
   },
   "outputs": [
    {
     "data": {
      "text/plain": [
       "array([[  0,   1,   2,   3,   4,   0,  -1],\n",
       "       [  5,   6,   7,   8,   9,  -2,  -3],\n",
       "       [ 10,  11,  12,  13,  14,  -4,  -5],\n",
       "       [ 15,  16,  17,  18,  19,  -6,  -7],\n",
       "       [ 20,  21,  22,  23,  24,  -8,  -9],\n",
       "       [ 25,  26,  27,  28,  29, -10, -11],\n",
       "       [ 30,  31,  32,  33,  34, -12, -13],\n",
       "       [ 35,  36,  37,  38,  39, -14, -15],\n",
       "       [ 40,  41,  42,  43,  44, -16, -17],\n",
       "       [ 45,  46,  47,  48,  49, -18, -19]])"
      ]
     },
     "execution_count": 22,
     "metadata": {},
     "output_type": "execute_result"
    }
   ],
   "source": [
    "matrix1 = np.arange(50).reshape(10, 5)\n",
    "matrix2 = -np.arange(20).reshape(10, 2)\n",
    "\n",
    "np.concatenate([matrix1, matrix2], axis=1)"
   ]
  },
  {
   "cell_type": "code",
   "execution_count": 26,
   "metadata": {
    "id": "EqJnzNehrYYP"
   },
   "outputs": [
    {
     "name": "stdout",
     "output_type": "stream",
     "text": [
      "[ 0  5 10 15 20 25 30 35 40 45]\n",
      "---\n",
      "[  0  -2  -4  -6  -8 -10 -12 -14 -16 -18]\n",
      "---\n",
      "[[  0   0]\n",
      " [  5  -2]\n",
      " [ 10  -4]\n",
      " [ 15  -6]\n",
      " [ 20  -8]\n",
      " [ 25 -10]\n",
      " [ 30 -12]\n",
      " [ 35 -14]\n",
      " [ 40 -16]\n",
      " [ 45 -18]]\n"
     ]
    }
   ],
   "source": [
    "A = matrix1[:,0]\n",
    "B = matrix2[:,0]\n",
    "\n",
    "print(A)\n",
    "print('---')\n",
    "print(B)\n",
    "print('---')\n",
    "print(np.stack([A, B], axis=1))\n",
    "\n"
   ]
  },
  {
   "cell_type": "markdown",
   "metadata": {
    "id": "MulZJhPBr6ie"
   },
   "source": [
    "Any matrix can be transposed easily:"
   ]
  },
  {
   "cell_type": "code",
   "execution_count": 27,
   "metadata": {
    "id": "KIeOCQ-wr_Q6"
   },
   "outputs": [
    {
     "name": "stdout",
     "output_type": "stream",
     "text": [
      "[[  0  -1]\n",
      " [ -2  -3]\n",
      " [ -4  -5]\n",
      " [ -6  -7]\n",
      " [ -8  -9]\n",
      " [-10 -11]\n",
      " [-12 -13]\n",
      " [-14 -15]\n",
      " [-16 -17]\n",
      " [-18 -19]]\n",
      "---\n",
      "[[  0  -2  -4  -6  -8 -10 -12 -14 -16 -18]\n",
      " [ -1  -3  -5  -7  -9 -11 -13 -15 -17 -19]]\n"
     ]
    }
   ],
   "source": [
    "print(matrix2)\n",
    "print('---')\n",
    "print(matrix2.T)"
   ]
  },
  {
   "cell_type": "code",
   "execution_count": 28,
   "metadata": {
    "id": "SIceEFFiMK5k"
   },
   "outputs": [
    {
     "name": "stdout",
     "output_type": "stream",
     "text": [
      "matrix2.shape = (10, 2)\n",
      "matrix2.T.shape = (2, 10)\n"
     ]
    }
   ],
   "source": [
    "print('matrix2.shape =', matrix2.shape)\n",
    "print('matrix2.T.shape =', matrix2.T.shape)"
   ]
  },
  {
   "cell_type": "code",
   "execution_count": 41,
   "metadata": {
    "id": "WnajGvSrsP-t"
   },
   "outputs": [
    {
     "data": {
      "text/plain": [
       "array([[0, 0, 0, 0, 0],\n",
       "       [1, 1, 1, 1, 1],\n",
       "       [2, 2, 2, 2, 2],\n",
       "       [3, 3, 3, 3, 3],\n",
       "       [4, 4, 4, 4, 4],\n",
       "       [5, 5, 5, 5, 5],\n",
       "       [6, 6, 6, 6, 6]])"
      ]
     },
     "execution_count": 41,
     "metadata": {},
     "output_type": "execute_result"
    }
   ],
   "source": [
    "# Your turn: make a (7 x 5) matrix with e_ij = i\n",
    "# (i - row number, j - column number)\n",
    "#\n",
    "# Avoid using loops.\n",
    "\n",
    "#<YOUR CODE>\n",
    "np.arange(7)[:,None]+np.zeros(shape=(7,5),dtype=int)"
   ]
  },
  {
   "cell_type": "markdown",
   "metadata": {
    "id": "56X724n8nNK9"
   },
   "source": [
    "### How fast is it?"
   ]
  },
  {
   "cell_type": "markdown",
   "metadata": {
    "id": "J7ugCw1wJXWc"
   },
   "source": [
    "Let's compare computation time for python and numpy\n",
    "* Two arrays of 10^6 elements\n",
    " * first - from 0 to 1 000 000\n",
    " * second - from 99 to 1 000 099\n",
    " \n",
    "* Computing:\n",
    " * elemwise sum\n",
    " * elemwise product\n",
    " * square root of first array\n",
    " * sum of all elements in the first array\n",
    " "
   ]
  },
  {
   "cell_type": "code",
   "execution_count": 42,
   "metadata": {
    "id": "hkaH4AkUJXWd"
   },
   "outputs": [
    {
     "name": "stdout",
     "output_type": "stream",
     "text": [
      "CPU times: user 751 ms, sys: 5.69 ms, total: 757 ms\n",
      "Wall time: 757 ms\n"
     ]
    }
   ],
   "source": [
    "%%time \n",
    "# ^-- this \"magic\" measures and prints cell computation time\n",
    "\n",
    "# Option I: pure python\n",
    "arr_1 = range(1000000)\n",
    "arr_2 = range(99,1000099)\n",
    "\n",
    "\n",
    "a_sum = []\n",
    "a_prod = []\n",
    "sqrt_a1 = []\n",
    "for i in range(len(arr_1)):\n",
    "    a_sum.append(arr_1[i]+arr_2[i])\n",
    "    a_prod.append(arr_1[i]*arr_2[i])\n",
    "    a_sum.append(arr_1[i]**0.5)\n",
    "    \n",
    "arr_1_sum = sum(arr_1)\n"
   ]
  },
  {
   "cell_type": "code",
   "execution_count": 43,
   "metadata": {
    "id": "BasUnM6uJXWf"
   },
   "outputs": [
    {
     "name": "stdout",
     "output_type": "stream",
     "text": [
      "CPU times: user 291 ms, sys: 84.5 ms, total: 375 ms\n",
      "Wall time: 374 ms\n"
     ]
    }
   ],
   "source": [
    "%%time\n",
    "\n",
    "# Option II: start from python, convert to numpy\n",
    "arr_1 = range(1000000)\n",
    "arr_2 = range(99,1000099)\n",
    "\n",
    "arr_1, arr_2 = np.array(arr_1) , np.array(arr_2)\n",
    "\n",
    "\n",
    "a_sum = arr_1 + arr_2\n",
    "a_prod = arr_1 * arr_2\n",
    "sqrt_a1 = arr_1 ** .5\n",
    "arr_1_sum = arr_1.sum()\n"
   ]
  },
  {
   "cell_type": "code",
   "execution_count": 44,
   "metadata": {
    "id": "whU6BvJ6JXWi"
   },
   "outputs": [
    {
     "name": "stdout",
     "output_type": "stream",
     "text": [
      "CPU times: user 33.2 ms, sys: 24.5 ms, total: 57.7 ms\n",
      "Wall time: 82 ms\n"
     ]
    }
   ],
   "source": [
    "%%time\n",
    "\n",
    "# Option III: pure numpy\n",
    "arr_1 = np.arange(1000000)\n",
    "arr_2 = np.arange(99,1000099)\n",
    "\n",
    "a_sum = arr_1 + arr_2\n",
    "a_prod = arr_1 * arr_2\n",
    "sqrt_a1 = arr_1 ** .5\n",
    "arr_1_sum = arr_1.sum()\n"
   ]
  },
  {
   "cell_type": "markdown",
   "metadata": {
    "id": "7Jc5_Z5wJXWl"
   },
   "source": [
    "If you want more serious benchmarks, take a look at [this](http://brilliantlywrong.blogspot.ru/2015/01/benchmarks-of-speed-numpy-vs-all.html)."
   ]
  },
  {
   "cell_type": "markdown",
   "metadata": {
    "id": "H2cYqf_UJXWm"
   },
   "source": [
    "```\n",
    "\n",
    "```\n",
    "\n",
    "```\n",
    "\n",
    "```\n",
    "\n",
    "```\n",
    "\n",
    "```\n",
    "\n",
    "```\n",
    "\n",
    "```\n",
    "\n",
    "```\n",
    "\n",
    "```\n",
    "\n",
    "```\n",
    "\n",
    "```\n",
    "\n",
    "```\n",
    "\n",
    "```"
   ]
  },
  {
   "cell_type": "markdown",
   "metadata": {
    "id": "OPtaPKy3uI6A"
   },
   "source": [
    "### Other numpy functions and features"
   ]
  },
  {
   "cell_type": "markdown",
   "metadata": {
    "id": "S-8KaYRmuM4m"
   },
   "source": [
    "There's also a bunch of pre-implemented operations including logarithms, trigonometry, vector/matrix products and aggregations."
   ]
  },
  {
   "cell_type": "code",
   "execution_count": 45,
   "metadata": {
    "id": "RklGSklbJXWn"
   },
   "outputs": [
    {
     "name": "stdout",
     "output_type": "stream",
     "text": [
      "numpy.sum(a) =  15\n",
      "numpy.mean(a) =  3.0\n",
      "numpy.min(a) =  1\n",
      "numpy.argmin(b) =  4\n",
      "numpy.dot(a,b) =  35\n",
      "numpy.unique(['male','male','female','female','male']) =  ['female' 'male']\n"
     ]
    }
   ],
   "source": [
    "a = np.array([1,2,3,4,5])\n",
    "b = np.array([5,4,3,2,1])\n",
    "print(\"numpy.sum(a) = \", np.sum(a))\n",
    "print(\"numpy.mean(a) = \", np.mean(a))\n",
    "print(\"numpy.min(a) = \",  np.min(a))\n",
    "print(\"numpy.argmin(b) = \", np.argmin(b))  # index of minimal element\n",
    "print(\"numpy.dot(a,b) = \", np.dot(a, b))      # dot product. Also used for matrix/tensor multiplication\n",
    "print(\"numpy.unique(['male','male','female','female','male']) = \", np.unique(['male','male','female','female','male']))\n",
    "\n",
    "# and tons of other stuff. see http://bit.ly/2u5q430 ."
   ]
  },
  {
   "cell_type": "code",
   "execution_count": 46,
   "metadata": {
    "id": "4N_kpGw3NcGk"
   },
   "outputs": [
    {
     "name": "stdout",
     "output_type": "stream",
     "text": [
      "a.min() = 1\n",
      "a.mean() = 3.0\n"
     ]
    }
   ],
   "source": [
    "# most of this functions are also implemented as members of numpy arrays, e.g.:\n",
    "print('a.min() =', a.min())\n",
    "print('a.mean() =', a.mean())"
   ]
  },
  {
   "cell_type": "code",
   "execution_count": 47,
   "metadata": {
    "id": "Jkq07GT5JXW0"
   },
   "outputs": [
    {
     "name": "stdout",
     "output_type": "stream",
     "text": [
      "Boolean operations\n",
      "a =  [1 2 3 4 5]\n",
      "b =  [5 4 3 2 1]\n",
      "a > 2 [False False  True  True  True]\n",
      "numpy.logical_not(a>2) =  [ True  True False False False]\n",
      "numpy.logical_and(a>2,b>2) =  [False False  True False False]\n",
      "numpy.logical_or(a>2,b<3) =  [False False  True  True  True]\n",
      "\n",
      " shortcuts\n",
      "~(a > 2) =  [ True  True False False False]\n",
      "(a > 2) & (b > 2) =  [False False  True False False]\n",
      "(a > 2) | (b < 3) =  [False False  True  True  True]\n"
     ]
    }
   ],
   "source": [
    "print(\"Boolean operations\")\n",
    "\n",
    "print('a = ', a)\n",
    "print('b = ', b)\n",
    "print(\"a > 2\", a > 2)\n",
    "print(\"numpy.logical_not(a>2) = \", np.logical_not(a>2))\n",
    "print(\"numpy.logical_and(a>2,b>2) = \", np.logical_and(a > 2,b > 2))\n",
    "print(\"numpy.logical_or(a>2,b<3) = \", np.logical_or(a > 2, b < 3))\n",
    "\n",
    "print(\"\\n shortcuts\")\n",
    "print(\"~(a > 2) = \", ~(a > 2))                    #logical_not(a > 2)\n",
    "print(\"(a > 2) & (b > 2) = \", (a > 2) & (b > 2))  #logical_and\n",
    "print(\"(a > 2) | (b < 3) = \", (a > 2) | (b < 3))  #logical_or"
   ]
  },
  {
   "cell_type": "markdown",
   "metadata": {
    "id": "VBkDTTOLJXW3"
   },
   "source": [
    "Another numpy feature we'll need is indexing: selecting elements from an array. \n",
    "Aside from python indexes and slices (e.g. a[1:4]), numpy also allows you to select several elements at once."
   ]
  },
  {
   "cell_type": "code",
   "execution_count": 48,
   "metadata": {
    "id": "RDtdSCMAPyLL"
   },
   "outputs": [
    {
     "name": "stdout",
     "output_type": "stream",
     "text": [
      "[[ 0  1  2  3  4  5]\n",
      " [ 6  7  8  9 10 11]\n",
      " [12 13 14 15 16 17]\n",
      " [18 19 20 21 22 23]]\n",
      "---\n",
      "[[ 6  8 10]\n",
      " [12 14 16]]\n"
     ]
    }
   ],
   "source": [
    "a = np.arange(24).reshape(4, 6)\n",
    "print(a)\n",
    "print('---')\n",
    "print(a[1:3,0:6:2])"
   ]
  },
  {
   "cell_type": "code",
   "execution_count": 49,
   "metadata": {
    "id": "MhXHB6fgJXW4"
   },
   "outputs": [
    {
     "name": "stdout",
     "output_type": "stream",
     "text": [
      "a =  [ 0  1  4  9 16 25]\n",
      "Select by element index\n",
      "a[[1,2,5]] =  [ 1  4 25]\n",
      "\n",
      "Select by boolean mask\n",
      "a[a > 5] =  [ 9 16 25]\n",
      "(a % 2 == 0) = [ True False  True False  True False]\n",
      "a[a % 2 == 0] = [ 0  4 16]\n"
     ]
    }
   ],
   "source": [
    "a = np.array([0, 1, 4, 9, 16, 25])\n",
    "ix = np.array([1,2,5])\n",
    "print(\"a = \", a)\n",
    "print(\"Select by element index\")\n",
    "print(\"a[[1,2,5]] = \", a[ix])\n",
    "\n",
    "print(\"\\nSelect by boolean mask\")\n",
    "print(\"a[a > 5] = \", a[a > 5])     # select all elements in a that are greater than 5\n",
    "print(\"(a % 2 == 0) =\", a % 2 == 0) # True for even, False for odd\n",
    "print(\"a[a % 2 == 0] =\", a[a % 2 == 0]) # select all elements in a that are even"
   ]
  },
  {
   "cell_type": "markdown",
   "metadata": {
    "id": "iD6NjAugj_3y"
   },
   "source": [
    "## Part III: Loading data with Pandas"
   ]
  },
  {
   "cell_type": "markdown",
   "metadata": {
    "id": "K0OYaO-6JXVb"
   },
   "source": [
    "Pandas is a library that helps you load the data, prepare it and perform some lightweight analysis. The god object here is the `pandas.DataFrame` - a 2d table with batteries included (it actually runs numpy under the hood).\n",
    "\n",
    "In the cell below we use it to read the data on the infamous titanic shipwreck."
   ]
  },
  {
   "cell_type": "code",
   "execution_count": null,
   "metadata": {
    "id": "4CWHxPY62I-D"
   },
   "outputs": [],
   "source": [
    "!wget https://github.com/HSE-LAMBDA/MLatFIAN2021/raw/main/seminar01/train.csv"
   ]
  },
  {
   "cell_type": "code",
   "execution_count": 50,
   "metadata": {
    "id": "G36oVo3RJXVc"
   },
   "outputs": [],
   "source": [
    "import pandas as pd\n",
    "data = pd.read_csv(\"train.csv\", index_col='PassengerId') # this yields a pandas.DataFrame"
   ]
  },
  {
   "cell_type": "code",
   "execution_count": 51,
   "metadata": {
    "id": "gEvLO4nvJXVf"
   },
   "outputs": [
    {
     "data": {
      "text/html": [
       "<div>\n",
       "<style scoped>\n",
       "    .dataframe tbody tr th:only-of-type {\n",
       "        vertical-align: middle;\n",
       "    }\n",
       "\n",
       "    .dataframe tbody tr th {\n",
       "        vertical-align: top;\n",
       "    }\n",
       "\n",
       "    .dataframe thead th {\n",
       "        text-align: right;\n",
       "    }\n",
       "</style>\n",
       "<table border=\"1\" class=\"dataframe\">\n",
       "  <thead>\n",
       "    <tr style=\"text-align: right;\">\n",
       "      <th></th>\n",
       "      <th>Survived</th>\n",
       "      <th>Pclass</th>\n",
       "      <th>Name</th>\n",
       "      <th>Sex</th>\n",
       "      <th>Age</th>\n",
       "      <th>SibSp</th>\n",
       "      <th>Parch</th>\n",
       "      <th>Ticket</th>\n",
       "      <th>Fare</th>\n",
       "      <th>Cabin</th>\n",
       "      <th>Embarked</th>\n",
       "    </tr>\n",
       "    <tr>\n",
       "      <th>PassengerId</th>\n",
       "      <th></th>\n",
       "      <th></th>\n",
       "      <th></th>\n",
       "      <th></th>\n",
       "      <th></th>\n",
       "      <th></th>\n",
       "      <th></th>\n",
       "      <th></th>\n",
       "      <th></th>\n",
       "      <th></th>\n",
       "      <th></th>\n",
       "    </tr>\n",
       "  </thead>\n",
       "  <tbody>\n",
       "    <tr>\n",
       "      <th>1</th>\n",
       "      <td>0</td>\n",
       "      <td>3</td>\n",
       "      <td>Braund, Mr. Owen Harris</td>\n",
       "      <td>male</td>\n",
       "      <td>22.0</td>\n",
       "      <td>1</td>\n",
       "      <td>0</td>\n",
       "      <td>A/5 21171</td>\n",
       "      <td>7.2500</td>\n",
       "      <td>NaN</td>\n",
       "      <td>S</td>\n",
       "    </tr>\n",
       "    <tr>\n",
       "      <th>2</th>\n",
       "      <td>1</td>\n",
       "      <td>1</td>\n",
       "      <td>Cumings, Mrs. John Bradley (Florence Briggs Th...</td>\n",
       "      <td>female</td>\n",
       "      <td>38.0</td>\n",
       "      <td>1</td>\n",
       "      <td>0</td>\n",
       "      <td>PC 17599</td>\n",
       "      <td>71.2833</td>\n",
       "      <td>C85</td>\n",
       "      <td>C</td>\n",
       "    </tr>\n",
       "    <tr>\n",
       "      <th>3</th>\n",
       "      <td>1</td>\n",
       "      <td>3</td>\n",
       "      <td>Heikkinen, Miss. Laina</td>\n",
       "      <td>female</td>\n",
       "      <td>26.0</td>\n",
       "      <td>0</td>\n",
       "      <td>0</td>\n",
       "      <td>STON/O2. 3101282</td>\n",
       "      <td>7.9250</td>\n",
       "      <td>NaN</td>\n",
       "      <td>S</td>\n",
       "    </tr>\n",
       "    <tr>\n",
       "      <th>4</th>\n",
       "      <td>1</td>\n",
       "      <td>1</td>\n",
       "      <td>Futrelle, Mrs. Jacques Heath (Lily May Peel)</td>\n",
       "      <td>female</td>\n",
       "      <td>35.0</td>\n",
       "      <td>1</td>\n",
       "      <td>0</td>\n",
       "      <td>113803</td>\n",
       "      <td>53.1000</td>\n",
       "      <td>C123</td>\n",
       "      <td>S</td>\n",
       "    </tr>\n",
       "    <tr>\n",
       "      <th>5</th>\n",
       "      <td>0</td>\n",
       "      <td>3</td>\n",
       "      <td>Allen, Mr. William Henry</td>\n",
       "      <td>male</td>\n",
       "      <td>35.0</td>\n",
       "      <td>0</td>\n",
       "      <td>0</td>\n",
       "      <td>373450</td>\n",
       "      <td>8.0500</td>\n",
       "      <td>NaN</td>\n",
       "      <td>S</td>\n",
       "    </tr>\n",
       "  </tbody>\n",
       "</table>\n",
       "</div>"
      ],
      "text/plain": [
       "             Survived  Pclass  \\\n",
       "PassengerId                     \n",
       "1                   0       3   \n",
       "2                   1       1   \n",
       "3                   1       3   \n",
       "4                   1       1   \n",
       "5                   0       3   \n",
       "\n",
       "                                                          Name     Sex   Age  \\\n",
       "PassengerId                                                                    \n",
       "1                                      Braund, Mr. Owen Harris    male  22.0   \n",
       "2            Cumings, Mrs. John Bradley (Florence Briggs Th...  female  38.0   \n",
       "3                                       Heikkinen, Miss. Laina  female  26.0   \n",
       "4                 Futrelle, Mrs. Jacques Heath (Lily May Peel)  female  35.0   \n",
       "5                                     Allen, Mr. William Henry    male  35.0   \n",
       "\n",
       "             SibSp  Parch            Ticket     Fare Cabin Embarked  \n",
       "PassengerId                                                          \n",
       "1                1      0         A/5 21171   7.2500   NaN        S  \n",
       "2                1      0          PC 17599  71.2833   C85        C  \n",
       "3                0      0  STON/O2. 3101282   7.9250   NaN        S  \n",
       "4                1      0            113803  53.1000  C123        S  \n",
       "5                0      0            373450   8.0500   NaN        S  "
      ]
     },
     "execution_count": 51,
     "metadata": {},
     "output_type": "execute_result"
    }
   ],
   "source": [
    "# Take a look at the data\n",
    "\n",
    "data.head() # selects top 5 lines"
   ]
  },
  {
   "cell_type": "markdown",
   "metadata": {
    "id": "EDHw3sHgJXVj"
   },
   "source": [
    "#### About the data\n",
    "Here's some of the columns\n",
    "* Name - a string with person's full name\n",
    "* Survived - 1 if a person survived the shipwreck, 0 otherwise.\n",
    "* Pclass - passenger class. Pclass == 3 is cheap'n'cheerful, Pclass == 1 is for moneybags.\n",
    "* Sex - a person's gender\n",
    "* Age - age in years, if available\n",
    "* Sibsp - number of siblings on a ship\n",
    "* Parch - number of parents on a ship\n",
    "* Fare - ticket cost\n",
    "* Embarked - port where the passenger embarked\n",
    " * C = Cherbourg; Q = Queenstown; S = Southampton"
   ]
  },
  {
   "cell_type": "code",
   "execution_count": 52,
   "metadata": {
    "id": "PWmRBFP6JXVl"
   },
   "outputs": [
    {
     "name": "stdout",
     "output_type": "stream",
     "text": [
      "len(data) =  891\n",
      "data.shape =  (891, 11)\n"
     ]
    }
   ],
   "source": [
    "# table dimensions\n",
    "print(\"len(data) = \", len(data))\n",
    "print(\"data.shape = \", data.shape)"
   ]
  },
  {
   "cell_type": "code",
   "execution_count": 53,
   "metadata": {
    "id": "dt6itIHBJXVn"
   },
   "outputs": [
    {
     "name": "stdout",
     "output_type": "stream",
     "text": [
      "Survived                                               1\n",
      "Pclass                                                 1\n",
      "Name        Futrelle, Mrs. Jacques Heath (Lily May Peel)\n",
      "Sex                                               female\n",
      "Age                                                   35\n",
      "SibSp                                                  1\n",
      "Parch                                                  0\n",
      "Ticket                                            113803\n",
      "Fare                                                53.1\n",
      "Cabin                                               C123\n",
      "Embarked                                               S\n",
      "Name: 4, dtype: object\n"
     ]
    }
   ],
   "source": [
    "# select a single row\n",
    "print(data.loc[4])"
   ]
  },
  {
   "cell_type": "code",
   "execution_count": 54,
   "metadata": {
    "id": "wdpiKMr7JXVq"
   },
   "outputs": [
    {
     "name": "stdout",
     "output_type": "stream",
     "text": [
      "PassengerId\n",
      "1     22.0\n",
      "2     38.0\n",
      "3     26.0\n",
      "4     35.0\n",
      "5     35.0\n",
      "6      NaN\n",
      "7     54.0\n",
      "8      2.0\n",
      "9     27.0\n",
      "10    14.0\n",
      "Name: Age, dtype: float64\n"
     ]
    }
   ],
   "source": [
    "# select a single column.\n",
    "ages = data[\"Age\"] # alternatively: data.Age\n",
    "print(ages.loc[:10])"
   ]
  },
  {
   "cell_type": "code",
   "execution_count": 55,
   "metadata": {
    "id": "-ao3OhDtJXVu"
   },
   "outputs": [
    {
     "data": {
      "text/html": [
       "<div>\n",
       "<style scoped>\n",
       "    .dataframe tbody tr th:only-of-type {\n",
       "        vertical-align: middle;\n",
       "    }\n",
       "\n",
       "    .dataframe tbody tr th {\n",
       "        vertical-align: top;\n",
       "    }\n",
       "\n",
       "    .dataframe thead th {\n",
       "        text-align: right;\n",
       "    }\n",
       "</style>\n",
       "<table border=\"1\" class=\"dataframe\">\n",
       "  <thead>\n",
       "    <tr style=\"text-align: right;\">\n",
       "      <th></th>\n",
       "      <th>Fare</th>\n",
       "      <th>Pclass</th>\n",
       "    </tr>\n",
       "    <tr>\n",
       "      <th>PassengerId</th>\n",
       "      <th></th>\n",
       "      <th></th>\n",
       "    </tr>\n",
       "  </thead>\n",
       "  <tbody>\n",
       "    <tr>\n",
       "      <th>5</th>\n",
       "      <td>8.0500</td>\n",
       "      <td>3</td>\n",
       "    </tr>\n",
       "    <tr>\n",
       "      <th>6</th>\n",
       "      <td>8.4583</td>\n",
       "      <td>3</td>\n",
       "    </tr>\n",
       "    <tr>\n",
       "      <th>7</th>\n",
       "      <td>51.8625</td>\n",
       "      <td>1</td>\n",
       "    </tr>\n",
       "    <tr>\n",
       "      <th>8</th>\n",
       "      <td>21.0750</td>\n",
       "      <td>3</td>\n",
       "    </tr>\n",
       "    <tr>\n",
       "      <th>9</th>\n",
       "      <td>11.1333</td>\n",
       "      <td>3</td>\n",
       "    </tr>\n",
       "    <tr>\n",
       "      <th>10</th>\n",
       "      <td>30.0708</td>\n",
       "      <td>2</td>\n",
       "    </tr>\n",
       "  </tbody>\n",
       "</table>\n",
       "</div>"
      ],
      "text/plain": [
       "                Fare  Pclass\n",
       "PassengerId                 \n",
       "5             8.0500       3\n",
       "6             8.4583       3\n",
       "7            51.8625       1\n",
       "8            21.0750       3\n",
       "9            11.1333       3\n",
       "10           30.0708       2"
      ]
     },
     "execution_count": 55,
     "metadata": {},
     "output_type": "execute_result"
    }
   ],
   "source": [
    "# select several columns and rows at once\n",
    "data.loc[5:10, (\"Fare\", \"Pclass\")]    # alternatively: data[[\"Fare\",\"Pclass\"]].loc[5:10]"
   ]
  },
  {
   "cell_type": "markdown",
   "metadata": {
    "id": "h7jqzyjLp9qe"
   },
   "source": [
    "### `loc` vs `iloc`"
   ]
  },
  {
   "cell_type": "markdown",
   "metadata": {
    "id": "qR-MSiiiqDB4"
   },
   "source": [
    "There are two ways of indexing the rows in pandas:\n",
    " *   by index column values (`PassengerId` in our case) – use `data.loc` for that\n",
    " *   by positional index - use `data.iloc` for that"
   ]
  },
  {
   "cell_type": "markdown",
   "metadata": {
    "id": "uXCOFn0Fqr1M"
   },
   "source": [
    "Note that index column starts from 1, so positional index 0 will correspond to index column value 1, positional 1 to index column value 2, and so on:"
   ]
  },
  {
   "cell_type": "code",
   "execution_count": 56,
   "metadata": {
    "id": "PWD9vfcIqjAH"
   },
   "outputs": [
    {
     "name": "stdout",
     "output_type": "stream",
     "text": [
      "Int64Index([  1,   2,   3,   4,   5,   6,   7,   8,   9,  10,\n",
      "            ...\n",
      "            882, 883, 884, 885, 886, 887, 888, 889, 890, 891],\n",
      "           dtype='int64', name='PassengerId', length=891)\n",
      "------\n",
      "data.iloc[0]:\n",
      "Survived                          0\n",
      "Pclass                            3\n",
      "Name        Braund, Mr. Owen Harris\n",
      "Sex                            male\n",
      "Age                              22\n",
      "SibSp                             1\n",
      "Parch                             0\n",
      "Ticket                    A/5 21171\n",
      "Fare                           7.25\n",
      "Cabin                           NaN\n",
      "Embarked                          S\n",
      "Name: 1, dtype: object\n",
      "------\n",
      "data.loc[1]:\n",
      "Survived                          0\n",
      "Pclass                            3\n",
      "Name        Braund, Mr. Owen Harris\n",
      "Sex                            male\n",
      "Age                              22\n",
      "SibSp                             1\n",
      "Parch                             0\n",
      "Ticket                    A/5 21171\n",
      "Fare                           7.25\n",
      "Cabin                           NaN\n",
      "Embarked                          S\n",
      "Name: 1, dtype: object\n"
     ]
    }
   ],
   "source": [
    "print(data.index)\n",
    "print('------')\n",
    "print(\"data.iloc[0]:\")\n",
    "print(data.iloc[0])\n",
    "print('------')\n",
    "print(\"data.loc[1]:\")\n",
    "print(data.loc[1])"
   ]
  },
  {
   "cell_type": "markdown",
   "metadata": {
    "id": "zqkU4nzfgxok"
   },
   "source": [
    "Also note that when indexing with `.loc` both slice ends are included:"
   ]
  },
  {
   "cell_type": "code",
   "execution_count": null,
   "metadata": {
    "id": "lI0C2cG8g3To"
   },
   "outputs": [],
   "source": [
    "data.loc[2:3]"
   ]
  },
  {
   "cell_type": "markdown",
   "metadata": {
    "id": "kMf9SqMwg7Uw"
   },
   "source": [
    "while with `.iloc` the end is excluded:"
   ]
  },
  {
   "cell_type": "code",
   "execution_count": null,
   "metadata": {
    "id": "S5JFLNVag6aP"
   },
   "outputs": [],
   "source": [
    "data.iloc[1:2]"
   ]
  },
  {
   "cell_type": "markdown",
   "metadata": {
    "id": "FJgo08cJi6i6"
   },
   "source": [
    "More complicated indexing (similar to boolean indexing in numpy):"
   ]
  },
  {
   "cell_type": "code",
   "execution_count": 57,
   "metadata": {
    "id": "aMkc1lqHPjAo"
   },
   "outputs": [
    {
     "name": "stdout",
     "output_type": "stream",
     "text": [
      "data[(data['Age'] < 18) & (data['Sex'] == 'male')] = (below)\n"
     ]
    },
    {
     "data": {
      "text/html": [
       "<div>\n",
       "<style scoped>\n",
       "    .dataframe tbody tr th:only-of-type {\n",
       "        vertical-align: middle;\n",
       "    }\n",
       "\n",
       "    .dataframe tbody tr th {\n",
       "        vertical-align: top;\n",
       "    }\n",
       "\n",
       "    .dataframe thead th {\n",
       "        text-align: right;\n",
       "    }\n",
       "</style>\n",
       "<table border=\"1\" class=\"dataframe\">\n",
       "  <thead>\n",
       "    <tr style=\"text-align: right;\">\n",
       "      <th></th>\n",
       "      <th>Survived</th>\n",
       "      <th>Pclass</th>\n",
       "      <th>Name</th>\n",
       "      <th>Sex</th>\n",
       "      <th>Age</th>\n",
       "      <th>SibSp</th>\n",
       "      <th>Parch</th>\n",
       "      <th>Ticket</th>\n",
       "      <th>Fare</th>\n",
       "      <th>Cabin</th>\n",
       "      <th>Embarked</th>\n",
       "    </tr>\n",
       "    <tr>\n",
       "      <th>PassengerId</th>\n",
       "      <th></th>\n",
       "      <th></th>\n",
       "      <th></th>\n",
       "      <th></th>\n",
       "      <th></th>\n",
       "      <th></th>\n",
       "      <th></th>\n",
       "      <th></th>\n",
       "      <th></th>\n",
       "      <th></th>\n",
       "      <th></th>\n",
       "    </tr>\n",
       "  </thead>\n",
       "  <tbody>\n",
       "    <tr>\n",
       "      <th>8</th>\n",
       "      <td>0</td>\n",
       "      <td>3</td>\n",
       "      <td>Palsson, Master. Gosta Leonard</td>\n",
       "      <td>male</td>\n",
       "      <td>2.00</td>\n",
       "      <td>3</td>\n",
       "      <td>1</td>\n",
       "      <td>349909</td>\n",
       "      <td>21.0750</td>\n",
       "      <td>NaN</td>\n",
       "      <td>S</td>\n",
       "    </tr>\n",
       "    <tr>\n",
       "      <th>17</th>\n",
       "      <td>0</td>\n",
       "      <td>3</td>\n",
       "      <td>Rice, Master. Eugene</td>\n",
       "      <td>male</td>\n",
       "      <td>2.00</td>\n",
       "      <td>4</td>\n",
       "      <td>1</td>\n",
       "      <td>382652</td>\n",
       "      <td>29.1250</td>\n",
       "      <td>NaN</td>\n",
       "      <td>Q</td>\n",
       "    </tr>\n",
       "    <tr>\n",
       "      <th>51</th>\n",
       "      <td>0</td>\n",
       "      <td>3</td>\n",
       "      <td>Panula, Master. Juha Niilo</td>\n",
       "      <td>male</td>\n",
       "      <td>7.00</td>\n",
       "      <td>4</td>\n",
       "      <td>1</td>\n",
       "      <td>3101295</td>\n",
       "      <td>39.6875</td>\n",
       "      <td>NaN</td>\n",
       "      <td>S</td>\n",
       "    </tr>\n",
       "    <tr>\n",
       "      <th>60</th>\n",
       "      <td>0</td>\n",
       "      <td>3</td>\n",
       "      <td>Goodwin, Master. William Frederick</td>\n",
       "      <td>male</td>\n",
       "      <td>11.00</td>\n",
       "      <td>5</td>\n",
       "      <td>2</td>\n",
       "      <td>CA 2144</td>\n",
       "      <td>46.9000</td>\n",
       "      <td>NaN</td>\n",
       "      <td>S</td>\n",
       "    </tr>\n",
       "    <tr>\n",
       "      <th>64</th>\n",
       "      <td>0</td>\n",
       "      <td>3</td>\n",
       "      <td>Skoog, Master. Harald</td>\n",
       "      <td>male</td>\n",
       "      <td>4.00</td>\n",
       "      <td>3</td>\n",
       "      <td>2</td>\n",
       "      <td>347088</td>\n",
       "      <td>27.9000</td>\n",
       "      <td>NaN</td>\n",
       "      <td>S</td>\n",
       "    </tr>\n",
       "    <tr>\n",
       "      <th>79</th>\n",
       "      <td>1</td>\n",
       "      <td>2</td>\n",
       "      <td>Caldwell, Master. Alden Gates</td>\n",
       "      <td>male</td>\n",
       "      <td>0.83</td>\n",
       "      <td>0</td>\n",
       "      <td>2</td>\n",
       "      <td>248738</td>\n",
       "      <td>29.0000</td>\n",
       "      <td>NaN</td>\n",
       "      <td>S</td>\n",
       "    </tr>\n",
       "    <tr>\n",
       "      <th>87</th>\n",
       "      <td>0</td>\n",
       "      <td>3</td>\n",
       "      <td>Ford, Mr. William Neal</td>\n",
       "      <td>male</td>\n",
       "      <td>16.00</td>\n",
       "      <td>1</td>\n",
       "      <td>3</td>\n",
       "      <td>W./C. 6608</td>\n",
       "      <td>34.3750</td>\n",
       "      <td>NaN</td>\n",
       "      <td>S</td>\n",
       "    </tr>\n",
       "    <tr>\n",
       "      <th>126</th>\n",
       "      <td>1</td>\n",
       "      <td>3</td>\n",
       "      <td>Nicola-Yarred, Master. Elias</td>\n",
       "      <td>male</td>\n",
       "      <td>12.00</td>\n",
       "      <td>1</td>\n",
       "      <td>0</td>\n",
       "      <td>2651</td>\n",
       "      <td>11.2417</td>\n",
       "      <td>NaN</td>\n",
       "      <td>C</td>\n",
       "    </tr>\n",
       "    <tr>\n",
       "      <th>139</th>\n",
       "      <td>0</td>\n",
       "      <td>3</td>\n",
       "      <td>Osen, Mr. Olaf Elon</td>\n",
       "      <td>male</td>\n",
       "      <td>16.00</td>\n",
       "      <td>0</td>\n",
       "      <td>0</td>\n",
       "      <td>7534</td>\n",
       "      <td>9.2167</td>\n",
       "      <td>NaN</td>\n",
       "      <td>S</td>\n",
       "    </tr>\n",
       "    <tr>\n",
       "      <th>164</th>\n",
       "      <td>0</td>\n",
       "      <td>3</td>\n",
       "      <td>Calic, Mr. Jovo</td>\n",
       "      <td>male</td>\n",
       "      <td>17.00</td>\n",
       "      <td>0</td>\n",
       "      <td>0</td>\n",
       "      <td>315093</td>\n",
       "      <td>8.6625</td>\n",
       "      <td>NaN</td>\n",
       "      <td>S</td>\n",
       "    </tr>\n",
       "    <tr>\n",
       "      <th>165</th>\n",
       "      <td>0</td>\n",
       "      <td>3</td>\n",
       "      <td>Panula, Master. Eino Viljami</td>\n",
       "      <td>male</td>\n",
       "      <td>1.00</td>\n",
       "      <td>4</td>\n",
       "      <td>1</td>\n",
       "      <td>3101295</td>\n",
       "      <td>39.6875</td>\n",
       "      <td>NaN</td>\n",
       "      <td>S</td>\n",
       "    </tr>\n",
       "    <tr>\n",
       "      <th>166</th>\n",
       "      <td>1</td>\n",
       "      <td>3</td>\n",
       "      <td>Goldsmith, Master. Frank John William \"Frankie\"</td>\n",
       "      <td>male</td>\n",
       "      <td>9.00</td>\n",
       "      <td>0</td>\n",
       "      <td>2</td>\n",
       "      <td>363291</td>\n",
       "      <td>20.5250</td>\n",
       "      <td>NaN</td>\n",
       "      <td>S</td>\n",
       "    </tr>\n",
       "    <tr>\n",
       "      <th>172</th>\n",
       "      <td>0</td>\n",
       "      <td>3</td>\n",
       "      <td>Rice, Master. Arthur</td>\n",
       "      <td>male</td>\n",
       "      <td>4.00</td>\n",
       "      <td>4</td>\n",
       "      <td>1</td>\n",
       "      <td>382652</td>\n",
       "      <td>29.1250</td>\n",
       "      <td>NaN</td>\n",
       "      <td>Q</td>\n",
       "    </tr>\n",
       "    <tr>\n",
       "      <th>183</th>\n",
       "      <td>0</td>\n",
       "      <td>3</td>\n",
       "      <td>Asplund, Master. Clarence Gustaf Hugo</td>\n",
       "      <td>male</td>\n",
       "      <td>9.00</td>\n",
       "      <td>4</td>\n",
       "      <td>2</td>\n",
       "      <td>347077</td>\n",
       "      <td>31.3875</td>\n",
       "      <td>NaN</td>\n",
       "      <td>S</td>\n",
       "    </tr>\n",
       "    <tr>\n",
       "      <th>184</th>\n",
       "      <td>1</td>\n",
       "      <td>2</td>\n",
       "      <td>Becker, Master. Richard F</td>\n",
       "      <td>male</td>\n",
       "      <td>1.00</td>\n",
       "      <td>2</td>\n",
       "      <td>1</td>\n",
       "      <td>230136</td>\n",
       "      <td>39.0000</td>\n",
       "      <td>F4</td>\n",
       "      <td>S</td>\n",
       "    </tr>\n",
       "    <tr>\n",
       "      <th>194</th>\n",
       "      <td>1</td>\n",
       "      <td>2</td>\n",
       "      <td>Navratil, Master. Michel M</td>\n",
       "      <td>male</td>\n",
       "      <td>3.00</td>\n",
       "      <td>1</td>\n",
       "      <td>1</td>\n",
       "      <td>230080</td>\n",
       "      <td>26.0000</td>\n",
       "      <td>F2</td>\n",
       "      <td>S</td>\n",
       "    </tr>\n",
       "    <tr>\n",
       "      <th>221</th>\n",
       "      <td>1</td>\n",
       "      <td>3</td>\n",
       "      <td>Sunderland, Mr. Victor Francis</td>\n",
       "      <td>male</td>\n",
       "      <td>16.00</td>\n",
       "      <td>0</td>\n",
       "      <td>0</td>\n",
       "      <td>SOTON/OQ 392089</td>\n",
       "      <td>8.0500</td>\n",
       "      <td>NaN</td>\n",
       "      <td>S</td>\n",
       "    </tr>\n",
       "    <tr>\n",
       "      <th>262</th>\n",
       "      <td>1</td>\n",
       "      <td>3</td>\n",
       "      <td>Asplund, Master. Edvin Rojj Felix</td>\n",
       "      <td>male</td>\n",
       "      <td>3.00</td>\n",
       "      <td>4</td>\n",
       "      <td>2</td>\n",
       "      <td>347077</td>\n",
       "      <td>31.3875</td>\n",
       "      <td>NaN</td>\n",
       "      <td>S</td>\n",
       "    </tr>\n",
       "    <tr>\n",
       "      <th>267</th>\n",
       "      <td>0</td>\n",
       "      <td>3</td>\n",
       "      <td>Panula, Mr. Ernesti Arvid</td>\n",
       "      <td>male</td>\n",
       "      <td>16.00</td>\n",
       "      <td>4</td>\n",
       "      <td>1</td>\n",
       "      <td>3101295</td>\n",
       "      <td>39.6875</td>\n",
       "      <td>NaN</td>\n",
       "      <td>S</td>\n",
       "    </tr>\n",
       "    <tr>\n",
       "      <th>279</th>\n",
       "      <td>0</td>\n",
       "      <td>3</td>\n",
       "      <td>Rice, Master. Eric</td>\n",
       "      <td>male</td>\n",
       "      <td>7.00</td>\n",
       "      <td>4</td>\n",
       "      <td>1</td>\n",
       "      <td>382652</td>\n",
       "      <td>29.1250</td>\n",
       "      <td>NaN</td>\n",
       "      <td>Q</td>\n",
       "    </tr>\n",
       "    <tr>\n",
       "      <th>283</th>\n",
       "      <td>0</td>\n",
       "      <td>3</td>\n",
       "      <td>de Pelsmaeker, Mr. Alfons</td>\n",
       "      <td>male</td>\n",
       "      <td>16.00</td>\n",
       "      <td>0</td>\n",
       "      <td>0</td>\n",
       "      <td>345778</td>\n",
       "      <td>9.5000</td>\n",
       "      <td>NaN</td>\n",
       "      <td>S</td>\n",
       "    </tr>\n",
       "    <tr>\n",
       "      <th>306</th>\n",
       "      <td>1</td>\n",
       "      <td>1</td>\n",
       "      <td>Allison, Master. Hudson Trevor</td>\n",
       "      <td>male</td>\n",
       "      <td>0.92</td>\n",
       "      <td>1</td>\n",
       "      <td>2</td>\n",
       "      <td>113781</td>\n",
       "      <td>151.5500</td>\n",
       "      <td>C22 C26</td>\n",
       "      <td>S</td>\n",
       "    </tr>\n",
       "    <tr>\n",
       "      <th>334</th>\n",
       "      <td>0</td>\n",
       "      <td>3</td>\n",
       "      <td>Vander Planke, Mr. Leo Edmondus</td>\n",
       "      <td>male</td>\n",
       "      <td>16.00</td>\n",
       "      <td>2</td>\n",
       "      <td>0</td>\n",
       "      <td>345764</td>\n",
       "      <td>18.0000</td>\n",
       "      <td>NaN</td>\n",
       "      <td>S</td>\n",
       "    </tr>\n",
       "    <tr>\n",
       "      <th>341</th>\n",
       "      <td>1</td>\n",
       "      <td>2</td>\n",
       "      <td>Navratil, Master. Edmond Roger</td>\n",
       "      <td>male</td>\n",
       "      <td>2.00</td>\n",
       "      <td>1</td>\n",
       "      <td>1</td>\n",
       "      <td>230080</td>\n",
       "      <td>26.0000</td>\n",
       "      <td>F2</td>\n",
       "      <td>S</td>\n",
       "    </tr>\n",
       "    <tr>\n",
       "      <th>349</th>\n",
       "      <td>1</td>\n",
       "      <td>3</td>\n",
       "      <td>Coutts, Master. William Loch \"William\"</td>\n",
       "      <td>male</td>\n",
       "      <td>3.00</td>\n",
       "      <td>1</td>\n",
       "      <td>1</td>\n",
       "      <td>C.A. 37671</td>\n",
       "      <td>15.9000</td>\n",
       "      <td>NaN</td>\n",
       "      <td>S</td>\n",
       "    </tr>\n",
       "    <tr>\n",
       "      <th>353</th>\n",
       "      <td>0</td>\n",
       "      <td>3</td>\n",
       "      <td>Elias, Mr. Tannous</td>\n",
       "      <td>male</td>\n",
       "      <td>15.00</td>\n",
       "      <td>1</td>\n",
       "      <td>1</td>\n",
       "      <td>2695</td>\n",
       "      <td>7.2292</td>\n",
       "      <td>NaN</td>\n",
       "      <td>C</td>\n",
       "    </tr>\n",
       "    <tr>\n",
       "      <th>387</th>\n",
       "      <td>0</td>\n",
       "      <td>3</td>\n",
       "      <td>Goodwin, Master. Sidney Leonard</td>\n",
       "      <td>male</td>\n",
       "      <td>1.00</td>\n",
       "      <td>5</td>\n",
       "      <td>2</td>\n",
       "      <td>CA 2144</td>\n",
       "      <td>46.9000</td>\n",
       "      <td>NaN</td>\n",
       "      <td>S</td>\n",
       "    </tr>\n",
       "    <tr>\n",
       "      <th>408</th>\n",
       "      <td>1</td>\n",
       "      <td>2</td>\n",
       "      <td>Richards, Master. William Rowe</td>\n",
       "      <td>male</td>\n",
       "      <td>3.00</td>\n",
       "      <td>1</td>\n",
       "      <td>1</td>\n",
       "      <td>29106</td>\n",
       "      <td>18.7500</td>\n",
       "      <td>NaN</td>\n",
       "      <td>S</td>\n",
       "    </tr>\n",
       "    <tr>\n",
       "      <th>434</th>\n",
       "      <td>0</td>\n",
       "      <td>3</td>\n",
       "      <td>Kallio, Mr. Nikolai Erland</td>\n",
       "      <td>male</td>\n",
       "      <td>17.00</td>\n",
       "      <td>0</td>\n",
       "      <td>0</td>\n",
       "      <td>STON/O 2. 3101274</td>\n",
       "      <td>7.1250</td>\n",
       "      <td>NaN</td>\n",
       "      <td>S</td>\n",
       "    </tr>\n",
       "    <tr>\n",
       "      <th>446</th>\n",
       "      <td>1</td>\n",
       "      <td>1</td>\n",
       "      <td>Dodge, Master. Washington</td>\n",
       "      <td>male</td>\n",
       "      <td>4.00</td>\n",
       "      <td>0</td>\n",
       "      <td>2</td>\n",
       "      <td>33638</td>\n",
       "      <td>81.8583</td>\n",
       "      <td>A34</td>\n",
       "      <td>S</td>\n",
       "    </tr>\n",
       "    <tr>\n",
       "      <th>481</th>\n",
       "      <td>0</td>\n",
       "      <td>3</td>\n",
       "      <td>Goodwin, Master. Harold Victor</td>\n",
       "      <td>male</td>\n",
       "      <td>9.00</td>\n",
       "      <td>5</td>\n",
       "      <td>2</td>\n",
       "      <td>CA 2144</td>\n",
       "      <td>46.9000</td>\n",
       "      <td>NaN</td>\n",
       "      <td>S</td>\n",
       "    </tr>\n",
       "    <tr>\n",
       "      <th>490</th>\n",
       "      <td>1</td>\n",
       "      <td>3</td>\n",
       "      <td>Coutts, Master. Eden Leslie \"Neville\"</td>\n",
       "      <td>male</td>\n",
       "      <td>9.00</td>\n",
       "      <td>1</td>\n",
       "      <td>1</td>\n",
       "      <td>C.A. 37671</td>\n",
       "      <td>15.9000</td>\n",
       "      <td>NaN</td>\n",
       "      <td>S</td>\n",
       "    </tr>\n",
       "    <tr>\n",
       "      <th>501</th>\n",
       "      <td>0</td>\n",
       "      <td>3</td>\n",
       "      <td>Calic, Mr. Petar</td>\n",
       "      <td>male</td>\n",
       "      <td>17.00</td>\n",
       "      <td>0</td>\n",
       "      <td>0</td>\n",
       "      <td>315086</td>\n",
       "      <td>8.6625</td>\n",
       "      <td>NaN</td>\n",
       "      <td>S</td>\n",
       "    </tr>\n",
       "    <tr>\n",
       "      <th>533</th>\n",
       "      <td>0</td>\n",
       "      <td>3</td>\n",
       "      <td>Elias, Mr. Joseph Jr</td>\n",
       "      <td>male</td>\n",
       "      <td>17.00</td>\n",
       "      <td>1</td>\n",
       "      <td>1</td>\n",
       "      <td>2690</td>\n",
       "      <td>7.2292</td>\n",
       "      <td>NaN</td>\n",
       "      <td>C</td>\n",
       "    </tr>\n",
       "    <tr>\n",
       "      <th>550</th>\n",
       "      <td>1</td>\n",
       "      <td>2</td>\n",
       "      <td>Davies, Master. John Morgan Jr</td>\n",
       "      <td>male</td>\n",
       "      <td>8.00</td>\n",
       "      <td>1</td>\n",
       "      <td>1</td>\n",
       "      <td>C.A. 33112</td>\n",
       "      <td>36.7500</td>\n",
       "      <td>NaN</td>\n",
       "      <td>S</td>\n",
       "    </tr>\n",
       "    <tr>\n",
       "      <th>551</th>\n",
       "      <td>1</td>\n",
       "      <td>1</td>\n",
       "      <td>Thayer, Mr. John Borland Jr</td>\n",
       "      <td>male</td>\n",
       "      <td>17.00</td>\n",
       "      <td>0</td>\n",
       "      <td>2</td>\n",
       "      <td>17421</td>\n",
       "      <td>110.8833</td>\n",
       "      <td>C70</td>\n",
       "      <td>C</td>\n",
       "    </tr>\n",
       "    <tr>\n",
       "      <th>575</th>\n",
       "      <td>0</td>\n",
       "      <td>3</td>\n",
       "      <td>Rush, Mr. Alfred George John</td>\n",
       "      <td>male</td>\n",
       "      <td>16.00</td>\n",
       "      <td>0</td>\n",
       "      <td>0</td>\n",
       "      <td>A/4. 20589</td>\n",
       "      <td>8.0500</td>\n",
       "      <td>NaN</td>\n",
       "      <td>S</td>\n",
       "    </tr>\n",
       "    <tr>\n",
       "      <th>684</th>\n",
       "      <td>0</td>\n",
       "      <td>3</td>\n",
       "      <td>Goodwin, Mr. Charles Edward</td>\n",
       "      <td>male</td>\n",
       "      <td>14.00</td>\n",
       "      <td>5</td>\n",
       "      <td>2</td>\n",
       "      <td>CA 2144</td>\n",
       "      <td>46.9000</td>\n",
       "      <td>NaN</td>\n",
       "      <td>S</td>\n",
       "    </tr>\n",
       "    <tr>\n",
       "      <th>687</th>\n",
       "      <td>0</td>\n",
       "      <td>3</td>\n",
       "      <td>Panula, Mr. Jaako Arnold</td>\n",
       "      <td>male</td>\n",
       "      <td>14.00</td>\n",
       "      <td>4</td>\n",
       "      <td>1</td>\n",
       "      <td>3101295</td>\n",
       "      <td>39.6875</td>\n",
       "      <td>NaN</td>\n",
       "      <td>S</td>\n",
       "    </tr>\n",
       "    <tr>\n",
       "      <th>722</th>\n",
       "      <td>0</td>\n",
       "      <td>3</td>\n",
       "      <td>Jensen, Mr. Svend Lauritz</td>\n",
       "      <td>male</td>\n",
       "      <td>17.00</td>\n",
       "      <td>1</td>\n",
       "      <td>0</td>\n",
       "      <td>350048</td>\n",
       "      <td>7.0542</td>\n",
       "      <td>NaN</td>\n",
       "      <td>S</td>\n",
       "    </tr>\n",
       "    <tr>\n",
       "      <th>732</th>\n",
       "      <td>0</td>\n",
       "      <td>3</td>\n",
       "      <td>Hassan, Mr. Houssein G N</td>\n",
       "      <td>male</td>\n",
       "      <td>11.00</td>\n",
       "      <td>0</td>\n",
       "      <td>0</td>\n",
       "      <td>2699</td>\n",
       "      <td>18.7875</td>\n",
       "      <td>NaN</td>\n",
       "      <td>C</td>\n",
       "    </tr>\n",
       "    <tr>\n",
       "      <th>747</th>\n",
       "      <td>0</td>\n",
       "      <td>3</td>\n",
       "      <td>Abbott, Mr. Rossmore Edward</td>\n",
       "      <td>male</td>\n",
       "      <td>16.00</td>\n",
       "      <td>1</td>\n",
       "      <td>1</td>\n",
       "      <td>C.A. 2673</td>\n",
       "      <td>20.2500</td>\n",
       "      <td>NaN</td>\n",
       "      <td>S</td>\n",
       "    </tr>\n",
       "    <tr>\n",
       "      <th>752</th>\n",
       "      <td>1</td>\n",
       "      <td>3</td>\n",
       "      <td>Moor, Master. Meier</td>\n",
       "      <td>male</td>\n",
       "      <td>6.00</td>\n",
       "      <td>0</td>\n",
       "      <td>1</td>\n",
       "      <td>392096</td>\n",
       "      <td>12.4750</td>\n",
       "      <td>E121</td>\n",
       "      <td>S</td>\n",
       "    </tr>\n",
       "    <tr>\n",
       "      <th>756</th>\n",
       "      <td>1</td>\n",
       "      <td>2</td>\n",
       "      <td>Hamalainen, Master. Viljo</td>\n",
       "      <td>male</td>\n",
       "      <td>0.67</td>\n",
       "      <td>1</td>\n",
       "      <td>1</td>\n",
       "      <td>250649</td>\n",
       "      <td>14.5000</td>\n",
       "      <td>NaN</td>\n",
       "      <td>S</td>\n",
       "    </tr>\n",
       "    <tr>\n",
       "      <th>765</th>\n",
       "      <td>0</td>\n",
       "      <td>3</td>\n",
       "      <td>Eklund, Mr. Hans Linus</td>\n",
       "      <td>male</td>\n",
       "      <td>16.00</td>\n",
       "      <td>0</td>\n",
       "      <td>0</td>\n",
       "      <td>347074</td>\n",
       "      <td>7.7750</td>\n",
       "      <td>NaN</td>\n",
       "      <td>S</td>\n",
       "    </tr>\n",
       "    <tr>\n",
       "      <th>788</th>\n",
       "      <td>0</td>\n",
       "      <td>3</td>\n",
       "      <td>Rice, Master. George Hugh</td>\n",
       "      <td>male</td>\n",
       "      <td>8.00</td>\n",
       "      <td>4</td>\n",
       "      <td>1</td>\n",
       "      <td>382652</td>\n",
       "      <td>29.1250</td>\n",
       "      <td>NaN</td>\n",
       "      <td>Q</td>\n",
       "    </tr>\n",
       "    <tr>\n",
       "      <th>789</th>\n",
       "      <td>1</td>\n",
       "      <td>3</td>\n",
       "      <td>Dean, Master. Bertram Vere</td>\n",
       "      <td>male</td>\n",
       "      <td>1.00</td>\n",
       "      <td>1</td>\n",
       "      <td>2</td>\n",
       "      <td>C.A. 2315</td>\n",
       "      <td>20.5750</td>\n",
       "      <td>NaN</td>\n",
       "      <td>S</td>\n",
       "    </tr>\n",
       "    <tr>\n",
       "      <th>792</th>\n",
       "      <td>0</td>\n",
       "      <td>2</td>\n",
       "      <td>Gaskell, Mr. Alfred</td>\n",
       "      <td>male</td>\n",
       "      <td>16.00</td>\n",
       "      <td>0</td>\n",
       "      <td>0</td>\n",
       "      <td>239865</td>\n",
       "      <td>26.0000</td>\n",
       "      <td>NaN</td>\n",
       "      <td>S</td>\n",
       "    </tr>\n",
       "    <tr>\n",
       "      <th>803</th>\n",
       "      <td>1</td>\n",
       "      <td>1</td>\n",
       "      <td>Carter, Master. William Thornton II</td>\n",
       "      <td>male</td>\n",
       "      <td>11.00</td>\n",
       "      <td>1</td>\n",
       "      <td>2</td>\n",
       "      <td>113760</td>\n",
       "      <td>120.0000</td>\n",
       "      <td>B96 B98</td>\n",
       "      <td>S</td>\n",
       "    </tr>\n",
       "    <tr>\n",
       "      <th>804</th>\n",
       "      <td>1</td>\n",
       "      <td>3</td>\n",
       "      <td>Thomas, Master. Assad Alexander</td>\n",
       "      <td>male</td>\n",
       "      <td>0.42</td>\n",
       "      <td>0</td>\n",
       "      <td>1</td>\n",
       "      <td>2625</td>\n",
       "      <td>8.5167</td>\n",
       "      <td>NaN</td>\n",
       "      <td>C</td>\n",
       "    </tr>\n",
       "    <tr>\n",
       "      <th>820</th>\n",
       "      <td>0</td>\n",
       "      <td>3</td>\n",
       "      <td>Skoog, Master. Karl Thorsten</td>\n",
       "      <td>male</td>\n",
       "      <td>10.00</td>\n",
       "      <td>3</td>\n",
       "      <td>2</td>\n",
       "      <td>347088</td>\n",
       "      <td>27.9000</td>\n",
       "      <td>NaN</td>\n",
       "      <td>S</td>\n",
       "    </tr>\n",
       "    <tr>\n",
       "      <th>825</th>\n",
       "      <td>0</td>\n",
       "      <td>3</td>\n",
       "      <td>Panula, Master. Urho Abraham</td>\n",
       "      <td>male</td>\n",
       "      <td>2.00</td>\n",
       "      <td>4</td>\n",
       "      <td>1</td>\n",
       "      <td>3101295</td>\n",
       "      <td>39.6875</td>\n",
       "      <td>NaN</td>\n",
       "      <td>S</td>\n",
       "    </tr>\n",
       "    <tr>\n",
       "      <th>828</th>\n",
       "      <td>1</td>\n",
       "      <td>2</td>\n",
       "      <td>Mallet, Master. Andre</td>\n",
       "      <td>male</td>\n",
       "      <td>1.00</td>\n",
       "      <td>0</td>\n",
       "      <td>2</td>\n",
       "      <td>S.C./PARIS 2079</td>\n",
       "      <td>37.0042</td>\n",
       "      <td>NaN</td>\n",
       "      <td>C</td>\n",
       "    </tr>\n",
       "    <tr>\n",
       "      <th>832</th>\n",
       "      <td>1</td>\n",
       "      <td>2</td>\n",
       "      <td>Richards, Master. George Sibley</td>\n",
       "      <td>male</td>\n",
       "      <td>0.83</td>\n",
       "      <td>1</td>\n",
       "      <td>1</td>\n",
       "      <td>29106</td>\n",
       "      <td>18.7500</td>\n",
       "      <td>NaN</td>\n",
       "      <td>S</td>\n",
       "    </tr>\n",
       "    <tr>\n",
       "      <th>842</th>\n",
       "      <td>0</td>\n",
       "      <td>2</td>\n",
       "      <td>Mudd, Mr. Thomas Charles</td>\n",
       "      <td>male</td>\n",
       "      <td>16.00</td>\n",
       "      <td>0</td>\n",
       "      <td>0</td>\n",
       "      <td>S.O./P.P. 3</td>\n",
       "      <td>10.5000</td>\n",
       "      <td>NaN</td>\n",
       "      <td>S</td>\n",
       "    </tr>\n",
       "    <tr>\n",
       "      <th>845</th>\n",
       "      <td>0</td>\n",
       "      <td>3</td>\n",
       "      <td>Culumovic, Mr. Jeso</td>\n",
       "      <td>male</td>\n",
       "      <td>17.00</td>\n",
       "      <td>0</td>\n",
       "      <td>0</td>\n",
       "      <td>315090</td>\n",
       "      <td>8.6625</td>\n",
       "      <td>NaN</td>\n",
       "      <td>S</td>\n",
       "    </tr>\n",
       "    <tr>\n",
       "      <th>851</th>\n",
       "      <td>0</td>\n",
       "      <td>3</td>\n",
       "      <td>Andersson, Master. Sigvard Harald Elias</td>\n",
       "      <td>male</td>\n",
       "      <td>4.00</td>\n",
       "      <td>4</td>\n",
       "      <td>2</td>\n",
       "      <td>347082</td>\n",
       "      <td>31.2750</td>\n",
       "      <td>NaN</td>\n",
       "      <td>S</td>\n",
       "    </tr>\n",
       "    <tr>\n",
       "      <th>870</th>\n",
       "      <td>1</td>\n",
       "      <td>3</td>\n",
       "      <td>Johnson, Master. Harold Theodor</td>\n",
       "      <td>male</td>\n",
       "      <td>4.00</td>\n",
       "      <td>1</td>\n",
       "      <td>1</td>\n",
       "      <td>347742</td>\n",
       "      <td>11.1333</td>\n",
       "      <td>NaN</td>\n",
       "      <td>S</td>\n",
       "    </tr>\n",
       "  </tbody>\n",
       "</table>\n",
       "</div>"
      ],
      "text/plain": [
       "             Survived  Pclass  \\\n",
       "PassengerId                     \n",
       "8                   0       3   \n",
       "17                  0       3   \n",
       "51                  0       3   \n",
       "60                  0       3   \n",
       "64                  0       3   \n",
       "79                  1       2   \n",
       "87                  0       3   \n",
       "126                 1       3   \n",
       "139                 0       3   \n",
       "164                 0       3   \n",
       "165                 0       3   \n",
       "166                 1       3   \n",
       "172                 0       3   \n",
       "183                 0       3   \n",
       "184                 1       2   \n",
       "194                 1       2   \n",
       "221                 1       3   \n",
       "262                 1       3   \n",
       "267                 0       3   \n",
       "279                 0       3   \n",
       "283                 0       3   \n",
       "306                 1       1   \n",
       "334                 0       3   \n",
       "341                 1       2   \n",
       "349                 1       3   \n",
       "353                 0       3   \n",
       "387                 0       3   \n",
       "408                 1       2   \n",
       "434                 0       3   \n",
       "446                 1       1   \n",
       "481                 0       3   \n",
       "490                 1       3   \n",
       "501                 0       3   \n",
       "533                 0       3   \n",
       "550                 1       2   \n",
       "551                 1       1   \n",
       "575                 0       3   \n",
       "684                 0       3   \n",
       "687                 0       3   \n",
       "722                 0       3   \n",
       "732                 0       3   \n",
       "747                 0       3   \n",
       "752                 1       3   \n",
       "756                 1       2   \n",
       "765                 0       3   \n",
       "788                 0       3   \n",
       "789                 1       3   \n",
       "792                 0       2   \n",
       "803                 1       1   \n",
       "804                 1       3   \n",
       "820                 0       3   \n",
       "825                 0       3   \n",
       "828                 1       2   \n",
       "832                 1       2   \n",
       "842                 0       2   \n",
       "845                 0       3   \n",
       "851                 0       3   \n",
       "870                 1       3   \n",
       "\n",
       "                                                        Name   Sex    Age  \\\n",
       "PassengerId                                                                 \n",
       "8                             Palsson, Master. Gosta Leonard  male   2.00   \n",
       "17                                      Rice, Master. Eugene  male   2.00   \n",
       "51                                Panula, Master. Juha Niilo  male   7.00   \n",
       "60                        Goodwin, Master. William Frederick  male  11.00   \n",
       "64                                     Skoog, Master. Harald  male   4.00   \n",
       "79                             Caldwell, Master. Alden Gates  male   0.83   \n",
       "87                                    Ford, Mr. William Neal  male  16.00   \n",
       "126                             Nicola-Yarred, Master. Elias  male  12.00   \n",
       "139                                      Osen, Mr. Olaf Elon  male  16.00   \n",
       "164                                          Calic, Mr. Jovo  male  17.00   \n",
       "165                             Panula, Master. Eino Viljami  male   1.00   \n",
       "166          Goldsmith, Master. Frank John William \"Frankie\"  male   9.00   \n",
       "172                                     Rice, Master. Arthur  male   4.00   \n",
       "183                    Asplund, Master. Clarence Gustaf Hugo  male   9.00   \n",
       "184                                Becker, Master. Richard F  male   1.00   \n",
       "194                               Navratil, Master. Michel M  male   3.00   \n",
       "221                           Sunderland, Mr. Victor Francis  male  16.00   \n",
       "262                        Asplund, Master. Edvin Rojj Felix  male   3.00   \n",
       "267                                Panula, Mr. Ernesti Arvid  male  16.00   \n",
       "279                                       Rice, Master. Eric  male   7.00   \n",
       "283                                de Pelsmaeker, Mr. Alfons  male  16.00   \n",
       "306                           Allison, Master. Hudson Trevor  male   0.92   \n",
       "334                          Vander Planke, Mr. Leo Edmondus  male  16.00   \n",
       "341                           Navratil, Master. Edmond Roger  male   2.00   \n",
       "349                   Coutts, Master. William Loch \"William\"  male   3.00   \n",
       "353                                       Elias, Mr. Tannous  male  15.00   \n",
       "387                          Goodwin, Master. Sidney Leonard  male   1.00   \n",
       "408                           Richards, Master. William Rowe  male   3.00   \n",
       "434                               Kallio, Mr. Nikolai Erland  male  17.00   \n",
       "446                                Dodge, Master. Washington  male   4.00   \n",
       "481                           Goodwin, Master. Harold Victor  male   9.00   \n",
       "490                    Coutts, Master. Eden Leslie \"Neville\"  male   9.00   \n",
       "501                                         Calic, Mr. Petar  male  17.00   \n",
       "533                                     Elias, Mr. Joseph Jr  male  17.00   \n",
       "550                           Davies, Master. John Morgan Jr  male   8.00   \n",
       "551                              Thayer, Mr. John Borland Jr  male  17.00   \n",
       "575                             Rush, Mr. Alfred George John  male  16.00   \n",
       "684                              Goodwin, Mr. Charles Edward  male  14.00   \n",
       "687                                 Panula, Mr. Jaako Arnold  male  14.00   \n",
       "722                                Jensen, Mr. Svend Lauritz  male  17.00   \n",
       "732                                 Hassan, Mr. Houssein G N  male  11.00   \n",
       "747                              Abbott, Mr. Rossmore Edward  male  16.00   \n",
       "752                                      Moor, Master. Meier  male   6.00   \n",
       "756                                Hamalainen, Master. Viljo  male   0.67   \n",
       "765                                   Eklund, Mr. Hans Linus  male  16.00   \n",
       "788                                Rice, Master. George Hugh  male   8.00   \n",
       "789                               Dean, Master. Bertram Vere  male   1.00   \n",
       "792                                      Gaskell, Mr. Alfred  male  16.00   \n",
       "803                      Carter, Master. William Thornton II  male  11.00   \n",
       "804                          Thomas, Master. Assad Alexander  male   0.42   \n",
       "820                             Skoog, Master. Karl Thorsten  male  10.00   \n",
       "825                             Panula, Master. Urho Abraham  male   2.00   \n",
       "828                                    Mallet, Master. Andre  male   1.00   \n",
       "832                          Richards, Master. George Sibley  male   0.83   \n",
       "842                                 Mudd, Mr. Thomas Charles  male  16.00   \n",
       "845                                      Culumovic, Mr. Jeso  male  17.00   \n",
       "851                  Andersson, Master. Sigvard Harald Elias  male   4.00   \n",
       "870                          Johnson, Master. Harold Theodor  male   4.00   \n",
       "\n",
       "             SibSp  Parch             Ticket      Fare    Cabin Embarked  \n",
       "PassengerId                                                               \n",
       "8                3      1             349909   21.0750      NaN        S  \n",
       "17               4      1             382652   29.1250      NaN        Q  \n",
       "51               4      1            3101295   39.6875      NaN        S  \n",
       "60               5      2            CA 2144   46.9000      NaN        S  \n",
       "64               3      2             347088   27.9000      NaN        S  \n",
       "79               0      2             248738   29.0000      NaN        S  \n",
       "87               1      3         W./C. 6608   34.3750      NaN        S  \n",
       "126              1      0               2651   11.2417      NaN        C  \n",
       "139              0      0               7534    9.2167      NaN        S  \n",
       "164              0      0             315093    8.6625      NaN        S  \n",
       "165              4      1            3101295   39.6875      NaN        S  \n",
       "166              0      2             363291   20.5250      NaN        S  \n",
       "172              4      1             382652   29.1250      NaN        Q  \n",
       "183              4      2             347077   31.3875      NaN        S  \n",
       "184              2      1             230136   39.0000       F4        S  \n",
       "194              1      1             230080   26.0000       F2        S  \n",
       "221              0      0    SOTON/OQ 392089    8.0500      NaN        S  \n",
       "262              4      2             347077   31.3875      NaN        S  \n",
       "267              4      1            3101295   39.6875      NaN        S  \n",
       "279              4      1             382652   29.1250      NaN        Q  \n",
       "283              0      0             345778    9.5000      NaN        S  \n",
       "306              1      2             113781  151.5500  C22 C26        S  \n",
       "334              2      0             345764   18.0000      NaN        S  \n",
       "341              1      1             230080   26.0000       F2        S  \n",
       "349              1      1         C.A. 37671   15.9000      NaN        S  \n",
       "353              1      1               2695    7.2292      NaN        C  \n",
       "387              5      2            CA 2144   46.9000      NaN        S  \n",
       "408              1      1              29106   18.7500      NaN        S  \n",
       "434              0      0  STON/O 2. 3101274    7.1250      NaN        S  \n",
       "446              0      2              33638   81.8583      A34        S  \n",
       "481              5      2            CA 2144   46.9000      NaN        S  \n",
       "490              1      1         C.A. 37671   15.9000      NaN        S  \n",
       "501              0      0             315086    8.6625      NaN        S  \n",
       "533              1      1               2690    7.2292      NaN        C  \n",
       "550              1      1         C.A. 33112   36.7500      NaN        S  \n",
       "551              0      2              17421  110.8833      C70        C  \n",
       "575              0      0         A/4. 20589    8.0500      NaN        S  \n",
       "684              5      2            CA 2144   46.9000      NaN        S  \n",
       "687              4      1            3101295   39.6875      NaN        S  \n",
       "722              1      0             350048    7.0542      NaN        S  \n",
       "732              0      0               2699   18.7875      NaN        C  \n",
       "747              1      1          C.A. 2673   20.2500      NaN        S  \n",
       "752              0      1             392096   12.4750     E121        S  \n",
       "756              1      1             250649   14.5000      NaN        S  \n",
       "765              0      0             347074    7.7750      NaN        S  \n",
       "788              4      1             382652   29.1250      NaN        Q  \n",
       "789              1      2          C.A. 2315   20.5750      NaN        S  \n",
       "792              0      0             239865   26.0000      NaN        S  \n",
       "803              1      2             113760  120.0000  B96 B98        S  \n",
       "804              0      1               2625    8.5167      NaN        C  \n",
       "820              3      2             347088   27.9000      NaN        S  \n",
       "825              4      1            3101295   39.6875      NaN        S  \n",
       "828              0      2    S.C./PARIS 2079   37.0042      NaN        C  \n",
       "832              1      1              29106   18.7500      NaN        S  \n",
       "842              0      0        S.O./P.P. 3   10.5000      NaN        S  \n",
       "845              0      0             315090    8.6625      NaN        S  \n",
       "851              4      2             347082   31.2750      NaN        S  \n",
       "870              1      1             347742   11.1333      NaN        S  "
      ]
     },
     "execution_count": 57,
     "metadata": {},
     "output_type": "execute_result"
    }
   ],
   "source": [
    "print(\"data[(data['Age'] < 18) & (data['Sex'] == 'male')] = (below)\") # select male children\n",
    "data.loc[(data['Age'] < 18) & (data['Sex'] == 'male')]"
   ]
  },
  {
   "cell_type": "markdown",
   "metadata": {
    "id": "ln3hUck0JXVx"
   },
   "source": [
    "### Your turn:\n"
   ]
  },
  {
   "cell_type": "code",
   "execution_count": 61,
   "metadata": {
    "id": "r0surSILJXVy"
   },
   "outputs": [
    {
     "name": "stdout",
     "output_type": "stream",
     "text": [
      "0\n",
      "0\n"
     ]
    }
   ],
   "source": [
    "# select passengers number 13 and 666 - did they survive?\n",
    "\n",
    "print(data.loc[13].Survived)\n",
    "print(data.loc[666].Survived)"
   ]
  },
  {
   "cell_type": "code",
   "execution_count": 65,
   "metadata": {
    "id": "WfL_YYOVJXV3"
   },
   "outputs": [
    {
     "data": {
      "text/plain": [
       "0.3838383838383838"
      ]
     },
     "execution_count": 65,
     "metadata": {},
     "output_type": "execute_result"
    }
   ],
   "source": [
    "# compute the overall survival rate (what fraction of passengers survived the shipwreck)\n",
    "data['Survived'].sum()/len(data)\n",
    "\n",
    "# or just \n",
    "\n",
    "data['Survived'].mean()"
   ]
  },
  {
   "cell_type": "markdown",
   "metadata": {
    "id": "NaDF00ADJXV7"
   },
   "source": [
    "```\n",
    "\n",
    "```\n",
    "\n",
    "```\n",
    "\n",
    "```\n",
    "\n",
    "```\n",
    "\n",
    "```\n",
    "\n",
    "```\n",
    "\n",
    "```\n",
    "\n",
    "```\n",
    "\n",
    "```\n",
    "\n",
    "```\n",
    "\n",
    "```\n",
    "\n",
    "```\n",
    "\n",
    "```\n",
    "\n"
   ]
  },
  {
   "cell_type": "markdown",
   "metadata": {
    "id": "dZAezJgDJXV8"
   },
   "source": [
    "Pandas also has some basic data analysis tools. For one, you can quickly display statistical aggregates for each column using `.describe()`"
   ]
  },
  {
   "cell_type": "code",
   "execution_count": 64,
   "metadata": {
    "id": "yHtn-GlbJXV8"
   },
   "outputs": [
    {
     "data": {
      "text/html": [
       "<div>\n",
       "<style scoped>\n",
       "    .dataframe tbody tr th:only-of-type {\n",
       "        vertical-align: middle;\n",
       "    }\n",
       "\n",
       "    .dataframe tbody tr th {\n",
       "        vertical-align: top;\n",
       "    }\n",
       "\n",
       "    .dataframe thead th {\n",
       "        text-align: right;\n",
       "    }\n",
       "</style>\n",
       "<table border=\"1\" class=\"dataframe\">\n",
       "  <thead>\n",
       "    <tr style=\"text-align: right;\">\n",
       "      <th></th>\n",
       "      <th>Survived</th>\n",
       "      <th>Pclass</th>\n",
       "      <th>Age</th>\n",
       "      <th>SibSp</th>\n",
       "      <th>Parch</th>\n",
       "      <th>Fare</th>\n",
       "    </tr>\n",
       "  </thead>\n",
       "  <tbody>\n",
       "    <tr>\n",
       "      <th>count</th>\n",
       "      <td>891.000000</td>\n",
       "      <td>891.000000</td>\n",
       "      <td>714.000000</td>\n",
       "      <td>891.000000</td>\n",
       "      <td>891.000000</td>\n",
       "      <td>891.000000</td>\n",
       "    </tr>\n",
       "    <tr>\n",
       "      <th>mean</th>\n",
       "      <td>0.383838</td>\n",
       "      <td>2.308642</td>\n",
       "      <td>29.699118</td>\n",
       "      <td>0.523008</td>\n",
       "      <td>0.381594</td>\n",
       "      <td>32.204208</td>\n",
       "    </tr>\n",
       "    <tr>\n",
       "      <th>std</th>\n",
       "      <td>0.486592</td>\n",
       "      <td>0.836071</td>\n",
       "      <td>14.526497</td>\n",
       "      <td>1.102743</td>\n",
       "      <td>0.806057</td>\n",
       "      <td>49.693429</td>\n",
       "    </tr>\n",
       "    <tr>\n",
       "      <th>min</th>\n",
       "      <td>0.000000</td>\n",
       "      <td>1.000000</td>\n",
       "      <td>0.420000</td>\n",
       "      <td>0.000000</td>\n",
       "      <td>0.000000</td>\n",
       "      <td>0.000000</td>\n",
       "    </tr>\n",
       "    <tr>\n",
       "      <th>25%</th>\n",
       "      <td>0.000000</td>\n",
       "      <td>2.000000</td>\n",
       "      <td>20.125000</td>\n",
       "      <td>0.000000</td>\n",
       "      <td>0.000000</td>\n",
       "      <td>7.910400</td>\n",
       "    </tr>\n",
       "    <tr>\n",
       "      <th>50%</th>\n",
       "      <td>0.000000</td>\n",
       "      <td>3.000000</td>\n",
       "      <td>28.000000</td>\n",
       "      <td>0.000000</td>\n",
       "      <td>0.000000</td>\n",
       "      <td>14.454200</td>\n",
       "    </tr>\n",
       "    <tr>\n",
       "      <th>75%</th>\n",
       "      <td>1.000000</td>\n",
       "      <td>3.000000</td>\n",
       "      <td>38.000000</td>\n",
       "      <td>1.000000</td>\n",
       "      <td>0.000000</td>\n",
       "      <td>31.000000</td>\n",
       "    </tr>\n",
       "    <tr>\n",
       "      <th>max</th>\n",
       "      <td>1.000000</td>\n",
       "      <td>3.000000</td>\n",
       "      <td>80.000000</td>\n",
       "      <td>8.000000</td>\n",
       "      <td>6.000000</td>\n",
       "      <td>512.329200</td>\n",
       "    </tr>\n",
       "  </tbody>\n",
       "</table>\n",
       "</div>"
      ],
      "text/plain": [
       "         Survived      Pclass         Age       SibSp       Parch        Fare\n",
       "count  891.000000  891.000000  714.000000  891.000000  891.000000  891.000000\n",
       "mean     0.383838    2.308642   29.699118    0.523008    0.381594   32.204208\n",
       "std      0.486592    0.836071   14.526497    1.102743    0.806057   49.693429\n",
       "min      0.000000    1.000000    0.420000    0.000000    0.000000    0.000000\n",
       "25%      0.000000    2.000000   20.125000    0.000000    0.000000    7.910400\n",
       "50%      0.000000    3.000000   28.000000    0.000000    0.000000   14.454200\n",
       "75%      1.000000    3.000000   38.000000    1.000000    0.000000   31.000000\n",
       "max      1.000000    3.000000   80.000000    8.000000    6.000000  512.329200"
      ]
     },
     "execution_count": 64,
     "metadata": {},
     "output_type": "execute_result"
    }
   ],
   "source": [
    "data.describe()"
   ]
  },
  {
   "cell_type": "markdown",
   "metadata": {
    "id": "hp-OG6bOJXWA"
   },
   "source": [
    "Some columns contain __NaN__ values - this means that there is no data there. For example, passenger `#5` has unknown age. To simplify the future data analysis, we'll replace NaN values by using pandas `fillna` function.\n",
    "\n",
    "_Note: we do this so easily because it's a tutorial. In general, you think twice before you modify data like this._"
   ]
  },
  {
   "cell_type": "code",
   "execution_count": 66,
   "metadata": {
    "id": "h62nzR9vJXWB"
   },
   "outputs": [
    {
     "data": {
      "text/plain": [
       "Survived                   0\n",
       "Pclass                     3\n",
       "Name        Moran, Mr. James\n",
       "Sex                     male\n",
       "Age                      NaN\n",
       "SibSp                      0\n",
       "Parch                      0\n",
       "Ticket                330877\n",
       "Fare                  8.4583\n",
       "Cabin                    NaN\n",
       "Embarked                   Q\n",
       "Name: 6, dtype: object"
      ]
     },
     "execution_count": 66,
     "metadata": {},
     "output_type": "execute_result"
    }
   ],
   "source": [
    "data.iloc[5]"
   ]
  },
  {
   "cell_type": "code",
   "execution_count": 67,
   "metadata": {
    "id": "EHEegWTOJXWK"
   },
   "outputs": [],
   "source": [
    "data['Age'] = data['Age'].fillna(value=data['Age'].mean())\n",
    "data['Fare'] = data['Fare'].fillna(value=data['Fare'].mean())"
   ]
  },
  {
   "cell_type": "code",
   "execution_count": 68,
   "metadata": {
    "id": "jSIS7m9RJXWO"
   },
   "outputs": [
    {
     "data": {
      "text/plain": [
       "Survived                   0\n",
       "Pclass                     3\n",
       "Name        Moran, Mr. James\n",
       "Sex                     male\n",
       "Age                  29.6991\n",
       "SibSp                      0\n",
       "Parch                      0\n",
       "Ticket                330877\n",
       "Fare                  8.4583\n",
       "Cabin                    NaN\n",
       "Embarked                   Q\n",
       "Name: 6, dtype: object"
      ]
     },
     "execution_count": 68,
     "metadata": {},
     "output_type": "execute_result"
    }
   ],
   "source": [
    "data.iloc[5]"
   ]
  },
  {
   "cell_type": "markdown",
   "metadata": {
    "id": "d_oQnE9JhlWW"
   },
   "source": [
    "### Pandas + numpy"
   ]
  },
  {
   "cell_type": "markdown",
   "metadata": {
    "id": "Wk8fA8HBJXWs"
   },
   "source": [
    "The important part: as pandas uses numpy under the hood, most of numpy functionality works with dataframes, as you can get their numpy representation with `.values` (most numpy functions will even work on pure pandas objects):"
   ]
  },
  {
   "cell_type": "code",
   "execution_count": 69,
   "metadata": {
    "id": "uE53osRgJXWs"
   },
   "outputs": [
    {
     "name": "stdout",
     "output_type": "stream",
     "text": [
      "Max ticket price:  512.3292\n",
      "\n",
      "The guy who paid the most:\n",
      " Survived                   1\n",
      "Pclass                     1\n",
      "Name        Ward, Miss. Anna\n",
      "Sex                   female\n",
      "Age                       35\n",
      "SibSp                      0\n",
      "Parch                      0\n",
      "Ticket              PC 17755\n",
      "Fare                 512.329\n",
      "Cabin                    NaN\n",
      "Embarked                   C\n",
      "Name: 259, dtype: object\n"
     ]
    }
   ],
   "source": [
    "# calling np.max on a pure pandas column:\n",
    "print(\"Max ticket price: \", np.max(data[\"Fare\"]))\n",
    "\n",
    "# calling np.argmax on a numpy representation of a pandas column\n",
    "# to get its positional index:\n",
    "print(\"\\nThe guy who paid the most:\\n\",\n",
    "      data.iloc[\n",
    "          np.argmax(data[\"Fare\"].values)\n",
    "      ])"
   ]
  },
  {
   "cell_type": "code",
   "execution_count": 70,
   "metadata": {
    "id": "X5l90RFPN6SL"
   },
   "outputs": [
    {
     "name": "stdout",
     "output_type": "stream",
     "text": [
      "258\n",
      "259\n"
     ]
    }
   ],
   "source": [
    "# numpy works only with positional index:\n",
    "print(data['Fare'].values.argmax())\n",
    "#     ^^^^^^^^^^^^^^^^^^^\n",
    "#     this part returns a numpy array, argmax of which we are calculating\n",
    "\n",
    "\n",
    "# in pandas you can ask for the index (i.e. value of the index column)\n",
    "# of the maximal element like this:\n",
    "print(data[\"Fare\"].idxmax())"
   ]
  },
  {
   "cell_type": "markdown",
   "metadata": {
    "id": "T_xqJK6UJXW6"
   },
   "source": [
    "### Your turn\n",
    "\n",
    "Use numpy and pandas to answer a few questions about data"
   ]
  },
  {
   "cell_type": "code",
   "execution_count": 73,
   "metadata": {
    "id": "p7O68NpyJXWw"
   },
   "outputs": [
    {
     "name": "stdout",
     "output_type": "stream",
     "text": [
      "Mean passenger age:  29.69911764705882\n",
      "\n",
      "The oldest guy\n",
      ":  Survived                                       1\n",
      "Pclass                                         1\n",
      "Name        Barkworth, Mr. Algernon Henry Wilson\n",
      "Sex                                         male\n",
      "Age                                           80\n",
      "SibSp                                          0\n",
      "Parch                                          0\n",
      "Ticket                                     27042\n",
      "Fare                                          30\n",
      "Cabin                                        A23\n",
      "Embarked                                       S\n",
      "Name: 631, dtype: object\n"
     ]
    }
   ],
   "source": [
    "# your code: compute mean passenger age and find the oldest guy on the ship\n",
    "print(\"Mean passenger age: \", np.mean(data[\"Age\"]))\n",
    "print(\"\\nThe oldest guy\\n: \", \n",
    "     data.iloc[np.argmax(data[\"Age\"].values)])"
   ]
  },
  {
   "cell_type": "code",
   "execution_count": 78,
   "metadata": {
    "id": "h6eXINxLJXW6"
   },
   "outputs": [
    {
     "name": "stdout",
     "output_type": "stream",
     "text": [
      "25.523893414211443 44.47981783439491\n"
     ]
    }
   ],
   "source": [
    "# who on average paid more for their ticket, men or women?\n",
    "\n",
    "mean_fare_men = np.mean(data[data[\"Sex\"] == 'male'].Fare)\n",
    "mean_fare_women = np.mean(data[data[\"Sex\"] == 'female'].Fare)\n",
    "\n",
    "print(mean_fare_men, mean_fare_women)"
   ]
  },
  {
   "cell_type": "code",
   "execution_count": 79,
   "metadata": {
    "id": "EyDEaifrJXW8"
   },
   "outputs": [
    {
     "name": "stdout",
     "output_type": "stream",
     "text": [
      "0.5398230088495575 0.3617021276595745\n"
     ]
    }
   ],
   "source": [
    "# who is more likely to survive: a child (<18 yo) or an adult?\n",
    "\n",
    "child_survival_rate = np.mean(data[data[\"Age\"] < 18].Survived)\n",
    "adult_survival_rate = np.mean(data[data[\"Age\"] >= 18].Survived)\n",
    "\n",
    "print(child_survival_rate, adult_survival_rate)"
   ]
  },
  {
   "cell_type": "markdown",
   "metadata": {
    "id": "ASsnUCRMJXWS"
   },
   "source": [
    "More pandas: \n",
    "* Official [tutorials](https://pandas.pydata.org/pandas-docs/stable/tutorials.html), including this [10 minutes to pandas](https://pandas.pydata.org/pandas-docs/stable/10min.html#min)\n",
    "* Bunch of cheat sheets awaits just one google query away from you (e.g. [basics](http://datacamp-community-prod.s3.amazonaws.com/dbed353d-2757-4617-8206-8767ab379ab3), [combining datasets](https://pbs.twimg.com/media/C65MaMpVwAA3v0A.jpg) and so on). "
   ]
  },
  {
   "cell_type": "markdown",
   "metadata": {
    "id": "yt0lgtQox2e1"
   },
   "source": [
    "## Part IV: plots and matplotlib"
   ]
  },
  {
   "cell_type": "markdown",
   "metadata": {
    "id": "Odx24QWTJXW-"
   },
   "source": [
    "Using python to visualize the data is covered by yet another library: `matplotlib`.\n",
    "\n",
    "Just like python itself, matplotlib has an awesome tendency of keeping simple things simple while still allowing you to write complicated stuff with convenience (e.g. super-detailed plots or custom animations)."
   ]
  },
  {
   "cell_type": "code",
   "execution_count": 80,
   "metadata": {
    "id": "7QxD0DoLJXW-",
    "scrolled": true
   },
   "outputs": [
    {
     "data": {
      "image/png": "[encoded data removed]",
      "text/plain": [
       "<Figure size 432x288 with 1 Axes>"
      ]
     },
     "metadata": {
      "needs_background": "light"
     },
     "output_type": "display_data"
    }
   ],
   "source": [
    "import matplotlib.pyplot as plt\n",
    "#%matplotlib inline  \n",
    "# ^-- this \"magic\" selects specific matplotlib backend suitable for\n",
    "# jupyter notebooks. For more info see:\n",
    "# https://ipython.readthedocs.io/en/stable/interactive/plotting.html#id1\n",
    "# (actually it's the default in google colab)\n",
    "\n",
    "# line plot\n",
    "plt.plot([0,1,2,3,4,5],[0,1,4,9,16,25]);"
   ]
  },
  {
   "cell_type": "code",
   "execution_count": 85,
   "metadata": {
    "id": "huybuiQkJXXB"
   },
   "outputs": [
    {
     "name": "stdout",
     "output_type": "stream",
     "text": [
      "x = [0 1 2 3 4]\n",
      "x**2 = [ 0  1  4  9 16]\n",
      "plotting x**2 vs x:\n"
     ]
    },
    {
     "data": {
      "image/png": "[encoded data removed]",
      "text/plain": [
       "<Figure size 432x288 with 1 Axes>"
      ]
     },
     "metadata": {
      "needs_background": "light"
     },
     "output_type": "display_data"
    },
    {
     "data": {
      "image/png": "[encoded data removed]",
      "text/plain": [
       "<Figure size 432x288 with 1 Axes>"
      ]
     },
     "metadata": {
      "needs_background": "light"
     },
     "output_type": "display_data"
    }
   ],
   "source": [
    "#scatter-plot\n",
    "x = np.arange(5)\n",
    "print(\"x =\", x)\n",
    "print(\"x**2 =\", x**2)\n",
    "print(\"plotting x**2 vs x:\")\n",
    "plt.scatter(x, x**2)\n",
    "plt.show()  # show the first plot to begin drawing the next one\n",
    "\n",
    "plt.plot(x, x**2);"
   ]
  },
  {
   "cell_type": "code",
   "execution_count": 26,
   "metadata": {
    "id": "Q4Bj57P_JXXF"
   },
   "outputs": [
    {
     "data": {
      "image/png": "[encoded data removed]",
      "text/plain": [
       "<Figure size 432x288 with 1 Axes>"
      ]
     },
     "metadata": {
      "needs_background": "light"
     },
     "output_type": "display_data"
    }
   ],
   "source": [
    "# draw a scatter plot with custom markers and colors\n",
    "plt.scatter([1, 1, 2, 3, 4, 4.5], [3, 2, 2, 5, 15, 24],\n",
    "            c=[\"red\", \"blue\", \"orange\", \"green\", \"cyan\", \"gray\"],\n",
    "            marker=\"x\")\n",
    "\n",
    "# without plt.show(), several plots will be drawn on top of one another\n",
    "plt.plot([0, 1, 2, 3, 4, 5], [0, 1, 4, 9, 16, 25], c=\"black\")\n",
    "\n",
    "# adding more sugar\n",
    "plt.title(\"Conspiracy theory proven!!!\")\n",
    "plt.xlabel(\"Per capita alcohol consumption\")\n",
    "plt.ylabel(\"# Layers in state of the art image classifier\");\n",
    "\n",
    "# fun with correlations: http://bit.ly/1FcNnWF"
   ]
  },
  {
   "cell_type": "code",
   "execution_count": 90,
   "metadata": {
    "id": "fz5WDA4YJXXI"
   },
   "outputs": [
    {
     "data": {
      "image/png": "[encoded data removed]",
      "text/plain": [
       "<Figure size 432x288 with 1 Axes>"
      ]
     },
     "metadata": {
      "needs_background": "light"
     },
     "output_type": "display_data"
    },
    {
     "data": {
      "image/png": "[encoded data removed]",
      "text/plain": [
       "<Figure size 432x288 with 1 Axes>"
      ]
     },
     "metadata": {
      "needs_background": "light"
     },
     "output_type": "display_data"
    }
   ],
   "source": [
    "# histogram - showing data density\n",
    "plt.hist([0,1,1,1,2,2,3,3,3,3,3,4,4,5,5,5,6,7,7,8,9,10])\n",
    "plt.show()\n",
    "\n",
    "plt.hist([0,1,1,1,2,2,3,3,3,3,3,4,4,5,5,5,6,7,7,8,9,10], bins=10);"
   ]
  },
  {
   "cell_type": "code",
   "execution_count": 29,
   "metadata": {
    "id": "_5X-UQAKRefF"
   },
   "outputs": [
    {
     "data": {
      "image/png": "[encoded data removed]",
      "text/plain": [
       "<Figure size 432x288 with 1 Axes>"
      ]
     },
     "metadata": {
      "needs_background": "light"
     },
     "output_type": "display_data"
    }
   ],
   "source": [
    "# you can also specify bin edges instead of just number of bins:\n",
    "\n",
    "x = np.random.normal(size=10000)\n",
    "bins = np.linspace(-3, 3, 101)\n",
    "plt.hist(x, bins=bins);"
   ]
  },
  {
   "cell_type": "code",
   "execution_count": 110,
   "metadata": {
    "id": "XmapamrGJXXM"
   },
   "outputs": [
    {
     "data": {
      "image/png": "[encoded data removed]",
      "text/plain": [
       "<Figure size 432x288 with 1 Axes>"
      ]
     },
     "metadata": {
      "needs_background": "light"
     },
     "output_type": "display_data"
    },
    {
     "data": {
      "image/png": "[encoded data removed]",
      "text/plain": [
       "<Figure size 432x288 with 1 Axes>"
      ]
     },
     "metadata": {
      "needs_background": "light"
     },
     "output_type": "display_data"
    },
    {
     "data": {
      "image/png": "[encoded data removed]",
      "text/plain": [
       "<Figure size 432x288 with 1 Axes>"
      ]
     },
     "metadata": {
      "needs_background": "light"
     },
     "output_type": "display_data"
    }
   ],
   "source": [
    "# plot a histogram of age and a histogram of ticket fares on separate plots\n",
    "\n",
    "ages = data.Age\n",
    "fares = data.Fare\n",
    "age_bins = np.linspace(0,80,20)\n",
    "fare_bins = np.linspace(0,150,20)\n",
    "\n",
    "plt.hist(ages,age_bins)\n",
    "plt.xlabel(\"Age\")\n",
    "plt.show()\n",
    "plt.hist(fares,fare_bins)\n",
    "plt.xlabel(\"Fare\")\n",
    "plt.show()\n",
    "plt.hist2d(ages,fares)\n",
    "plt.xlabel(\"Age\")\n",
    "plt.ylabel(\"Fare\")\n",
    "plt.show()\n",
    "#bonus: use context help to see if there is a way to draw a 2D histogram of age vs fare."
   ]
  },
  {
   "cell_type": "code",
   "execution_count": 117,
   "metadata": {
    "id": "QIzNFjffJXXP"
   },
   "outputs": [
    {
     "data": {
      "text/plain": [
       "<matplotlib.legend.Legend at 0x7faee034c670>"
      ]
     },
     "execution_count": 117,
     "metadata": {},
     "output_type": "execute_result"
    },
    {
     "data": {
      "image/png": "[encoded data removed]",
      "text/plain": [
       "<Figure size 432x288 with 1 Axes>"
      ]
     },
     "metadata": {
      "needs_background": "light"
     },
     "output_type": "display_data"
    }
   ],
   "source": [
    "# make a scatter plot of passenger age vs ticket fare\n",
    "\n",
    "women = data.loc[data[\"Sex\"] == 'female']\n",
    "men = data.loc[data[\"Sex\"] == 'male']\n",
    "\n",
    "\n",
    "plt.scatter(women[\"Age\"],women[\"Fare\"],c='orange',label='women')\n",
    "plt.scatter(men[\"Age\"],men[\"Fare\"],c='blue',label='men')\n",
    "plt.xlabel(\"Age\")\n",
    "plt.ylabel(\"Fare\")\n",
    "plt.legend()\n",
    "\n",
    "# kudos if you add separate colors for men and women"
   ]
  },
  {
   "cell_type": "markdown",
   "metadata": {
    "id": "bHDcDWFKJXXS"
   },
   "source": [
    "* Extended [tutorial](https://matplotlib.org/2.0.2/users/pyplot_tutorial.html)\n",
    "* Other libraries for more sophisticated stuff: [Seaborn](https://seaborn.pydata.org/), [Plotly](https://plot.ly/python/), and [Bokeh](https://bokeh.pydata.org/en/latest/)"
   ]
  },
  {
   "cell_type": "markdown",
   "metadata": {
    "id": "ARBewmPBye4-"
   },
   "source": [
    "## Part V (final): machine learning with scikit-learn"
   ]
  },
  {
   "cell_type": "markdown",
   "metadata": {
    "id": "Hpc3yTBjJXXT"
   },
   "source": [
    "<img src='https://imgs.xkcd.com/comics/machine_learning.png' width=320px>\n",
    "\n",
    "Scikit-learn is _the_ tool for simple machine learning pipelines. \n",
    "\n",
    "It's a single library that unites a whole bunch of models under the common interface:\n",
    "* Create:__ `model = sklearn.whatever.ModelNameHere(parameters_if_any)`__\n",
    "* Train:__ `model.fit(X,y)`__\n",
    "* Predict:__ `model.predict(X_test)`__\n",
    "\n",
    "It also contains utilities for feature extraction, quality estimation or cross-validation."
   ]
  },
  {
   "cell_type": "code",
   "execution_count": 126,
   "metadata": {
    "id": "JhbbBk93JXXV"
   },
   "outputs": [
    {
     "name": "stdout",
     "output_type": "stream",
     "text": [
      "Test accuracy: 0.78\n"
     ]
    }
   ],
   "source": [
    "from sklearn.neighbors import KNeighborsClassifier\n",
    "from sklearn.metrics import accuracy_score\n",
    "\n",
    "data['Age'] = data['Age'].fillna(value=data['Age'].mean())\n",
    "data['Fare'] = data['Fare'].fillna(value=data['Fare'].mean())\n",
    "\n",
    "\n",
    "\n",
    "features = data[[\"Fare\", \"SibSp\",\"Age\"]].copy()\n",
    "answers = data[\"Survived\"]\n",
    "\n",
    "model = KNeighborsClassifier(n_neighbors=5)\n",
    "model.fit(features[:-100], answers[:-100])\n",
    "\n",
    "test_predictions = model.predict(features[-100:])\n",
    "print(\"Test accuracy:\", accuracy_score(answers[-100:], test_predictions))"
   ]
  },
  {
   "cell_type": "markdown",
   "metadata": {
    "id": "Wxe6EeCSJXXY"
   },
   "source": [
    "__Final quest:__ tune n_neighbors and add more features to achieve accuracy of at least 0.75\n",
    "\n",
    "\n",
    "__Hint 1:__ for string features like \"Sex\" or \"Embarked\" you will have to compute some kind of numeric representation.\n",
    "For example, 1 if male and 0 if female or vice versa \n",
    "\n",
    "__Hint 2:__ features like \"Age\" contain NaN values. You can replace them with `replaced = data[\"Age\"].fillna(some_number)`."
   ]
  },
  {
   "cell_type": "markdown",
   "metadata": {
    "id": "WcdyuBflJXXZ"
   },
   "source": [
    "* Sklearn [tutorials](http://scikit-learn.org/stable/tutorial/index.html)\n",
    "* Sklearn [examples](http://scikit-learn.org/stable/auto_examples/index.html)\n",
    "* Sklearn [cheat sheet](http://scikit-learn.org/stable/_static/ml_map.png)"
   ]
  },
  {
   "cell_type": "markdown",
   "metadata": {
    "id": "toDL-cAILb8H"
   },
   "source": [
    "```\n",
    "```\n",
    "```\n",
    "```"
   ]
  }
 ],
 "metadata": {
  "colab": {
   "collapsed_sections": [],
   "include_colab_link": true,
   "name": "MLatFIAN2021_seminar01_DataHandling.ipynb",
   "provenance": [],
   "toc_visible": true
  },
  "kernelspec": {
   "display_name": "Python 3",
   "language": "python",
   "name": "python3"
  },
  "language_info": {
   "codemirror_mode": {
    "name": "ipython",
    "version": 3
   },
   "file_extension": ".py",
   "mimetype": "text/x-python",
   "name": "python",
   "nbconvert_exporter": "python",
   "pygments_lexer": "ipython3",
   "version": "3.8.5"
  }
 },
 "nbformat": 4,
 "nbformat_minor": 4
}
