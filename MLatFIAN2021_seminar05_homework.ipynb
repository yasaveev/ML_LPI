{
 "cells": [
  {
   "cell_type": "markdown",
   "metadata": {
    "colab_type": "text",
    "id": "view-in-github"
   },
   "source": [
    "<a href=\"https://colab.research.google.com/github/HSE-LAMBDA/MLatFIAN2021/blob/main/seminar05/MLatFIAN2021_seminar05_homework.ipynb\" target=\"_parent\"><img src=\"https://colab.research.google.com/assets/colab-badge.svg\" alt=\"Open In Colab\"/></a>"
   ]
  },
  {
   "cell_type": "markdown",
   "metadata": {
    "id": "Ij_zY4soDF2Z"
   },
   "source": [
    "# Cross-validation riddle"
   ]
  },
  {
   "cell_type": "markdown",
   "metadata": {
    "id": "qUCsY5OlDJPl"
   },
   "source": [
    "Here's a small example of cross-validation done wrongly. Can you spot the problem?"
   ]
  },
  {
   "cell_type": "code",
   "execution_count": 18,
   "metadata": {
    "id": "mSUzkXsC-R4H"
   },
   "outputs": [],
   "source": [
    "# Some imports...\n",
    "import numpy as np\n",
    "import matplotlib.pyplot as plt\n",
    "\n",
    "from sklearn.svm import LinearSVC\n",
    "from sklearn.model_selection import KFold, cross_val_score\n",
    "from sklearn.metrics import accuracy_score"
   ]
  },
  {
   "cell_type": "markdown",
   "metadata": {
    "id": "ZyDp3Xc_DaDM"
   },
   "source": [
    "**Plan:**\n",
    "\n",
    "- Let's create a binary classification dataset where targets are completely independent from the features\n",
    "  - *(i.e. no model could ever predict them well)*\n",
    "- We'll do some simple feature selection\n",
    "- And cross-validate a model on this data\n",
    "\n",
    "**Q:** what accuracy do we expect (classes are even)?"
   ]
  },
  {
   "cell_type": "markdown",
   "metadata": {
    "id": "IHx51DKP8Rcf"
   },
   "source": [
    "We'll start from writing a class to select the best features:"
   ]
  },
  {
   "cell_type": "code",
   "execution_count": 45,
   "metadata": {
    "id": "rRNmKZJJ8W7x"
   },
   "outputs": [],
   "source": [
    "class FeatureSelector:\n",
    "  def __init__(self, num_features):\n",
    "    self.n = num_features # number of best features to select\n",
    "\n",
    "  def fit(self, X, y):\n",
    "    # Select features that describe the targets best, i.e. have\n",
    "    # highest correlation with them:\n",
    "    covariance = ((X - X.mean(axis=0)) * (y[:,np.newaxis] - y.mean())).mean(axis=0)\n",
    "    self.best_feature_ids = np.argsort(np.abs(covariance))[-self.n:]\n",
    "    \n",
    "  def fit_with_print(self, X, y):\n",
    "    # Select features that describe the targets best, i.e. have\n",
    "    # highest correlation with them:\n",
    "    covariance = ((X - X.mean(axis=0)) * (y[:,np.newaxis] - y.mean())).mean(axis=0)\n",
    "    print(\"Ковариация с метками тех признаков, что мы отобрали:\\n\",np.sort(np.abs(covariance))[-self.n:])\n",
    "    print(\"--------\\n\")\n",
    "    print(\"--------\\n\")\n",
    "    print(\"Ковариация с метками признаков c ''cредней'' ковариацией:\\n\",np.sort(np.abs(covariance))[len(X)//2-self.n//2:len(X)//2+self.n//2])\n",
    "    self.best_feature_ids = np.argsort(np.abs(covariance))[-self.n:]\n",
    "    \n",
    "  def new_fit(self, X, y):\n",
    "    # Отбор без привязки к ковариации\n",
    "    self.best_feature_ids = np.random.randint(0,len(X),self.n)\n",
    "\n",
    "  def transform(self, X):\n",
    "    return X[:,self.best_feature_ids]\n",
    "\n",
    "  def fit_transform(self, X, y):\n",
    "    self.fit(X, y)\n",
    "    return self.transform(X)\n",
    "\n",
    "  def new_fit_transform(self, X, y):\n",
    "    self.new_fit(X, y)\n",
    "    return self.transform(X)\n",
    "\n",
    "  def fit_transform_with_print(self, X, y):\n",
    "    self.fit_with_print(X, y)\n",
    "    return self.transform(X)"
   ]
  },
  {
   "cell_type": "code",
   "execution_count": 46,
   "metadata": {
    "colab": {
     "base_uri": "https://localhost:8080/"
    },
    "id": "6mu9gHgNBk_V",
    "outputId": "51ec764f-4ea6-41ab-f103-ede2eda94002"
   },
   "outputs": [
    {
     "name": "stdout",
     "output_type": "stream",
     "text": [
      "CV score is 0.8800000000000001\n"
     ]
    }
   ],
   "source": [
    "num_features_total = 1000\n",
    "num_features_best = 100\n",
    "\n",
    "N = 100\n",
    "\n",
    "# Dataset generation\n",
    "X = np.random.normal(size=(N, num_features_total))\n",
    "y = np.random.randint(2, size=N)\n",
    "\n",
    "# Feature selection:\n",
    "X_best = FeatureSelector(num_features_best).fit_transform(X, y)\n",
    "\n",
    "# Simple classification model\n",
    "model = LinearSVC()\n",
    "\n",
    "# Estimatin accuracy using cross-validation:\n",
    "cv_score = cross_val_score(model, X_best, y, scoring='accuracy', cv=10, n_jobs=-1).mean()\n",
    "print(f\"CV score is {cv_score}\")"
   ]
  },
  {
   "cell_type": "code",
   "execution_count": null,
   "metadata": {},
   "outputs": [],
   "source": []
  },
  {
   "cell_type": "markdown",
   "metadata": {
    "id": "afadN3ZVFKjF"
   },
   "source": [
    "What's going on?! Why accuracy is so high?\n",
    "\n",
    "Maybe it just happened by chance? Let's repeat this experiment many times and histogram the results:"
   ]
  },
  {
   "cell_type": "code",
   "execution_count": 47,
   "metadata": {
    "colab": {
     "base_uri": "https://localhost:8080/",
     "height": 265
    },
    "id": "QDbOMXnuC6uw",
    "outputId": "d664f011-4506-4cd3-f71c-91f52dcbe6a8"
   },
   "outputs": [
    {
     "data": {
      "image/png": "[encoded data removed]",
      "text/plain": [
       "<Figure size 432x288 with 1 Axes>"
      ]
     },
     "metadata": {
      "needs_background": "light"
     },
     "output_type": "display_data"
    }
   ],
   "source": [
    "num_features_total = 1000\n",
    "num_features_best = 100\n",
    "\n",
    "N = 100\n",
    "def experiment():\n",
    "  # Dataset generation\n",
    "  X = np.random.normal(size=(N, num_features_total))\n",
    "  y = np.random.randint(2, size=N)\n",
    "\n",
    "  # Feature selection:\n",
    "  X_best = FeatureSelector(num_features_best).fit_transform(X, y)\n",
    "\n",
    "  # Simple classification model\n",
    "  model = LinearSVC()\n",
    "\n",
    "  # Estimatin accuracy using cross-validation:\n",
    "  return cross_val_score(model, X_best, y, scoring='accuracy', cv=10, n_jobs=-1).mean()\n",
    "\n",
    "results = [experiment() for _ in range(100)]\n",
    "plt.hist(results, bins=10);"
   ]
  },
  {
   "cell_type": "markdown",
   "metadata": {
    "id": "8bLaEypoF5pb"
   },
   "source": [
    "Explain why the estimated model accuracy is not 50% on a dataset where targets were generated **independently from the features (!!!)**.\n",
    "\n",
    "Find and fix the problem (don't change the dataset generation or its parameters - `num_features_total`, `num_features_best`, `N`).\n",
    "\n",
    "*Hint: the problem is in the overall logic, and not a bug in the code.*"
   ]
  },
  {
   "cell_type": "markdown",
   "metadata": {
    "id": "afadN3ZVFKjF"
   },
   "source": [
    "# Выполнение"
   ]
  },
  {
   "cell_type": "markdown",
   "metadata": {
    "id": "afadN3ZVFKjF"
   },
   "source": [
    "Рассуждение: действительно, непонятно, как могла получиться столь высокая accuracy, ведь пространство признаков и метки фомируются неазвисимо (и случайно). Получается, следует ожидать accuracy около 50%."
   ]
  },
  {
   "cell_type": "markdown",
   "metadata": {
    "id": "afadN3ZVFKjF"
   },
   "source": [
    "Однако, как было сказано в подсказке, проблема заключается в логике. Скорее всего, дело в том, как мы отбираем признаки. Для нас критерием является ковариация, то есть оценка зависимости признаков и меток. И в целом неудивительно, что из 1000 признаков можно найти 100, которые при вот таком случайном заполнении оказались немного скореллированы с метками. Для интереса посмотрим на ковариацию тех признаков, которые были отобраны, и на ковариацию признаков со средней зависимостью (из середины упорядоченного списка ковариаций)"
   ]
  },
  {
   "cell_type": "code",
   "execution_count": 48,
   "metadata": {},
   "outputs": [
    {
     "name": "stdout",
     "output_type": "stream",
     "text": [
      "Ковариация с метками тех признаков, что мы отобрали:\n",
      " [0.07953982 0.07981498 0.08011564 0.08016717 0.08040591 0.08053774\n",
      " 0.0806384  0.08073732 0.08147338 0.08147645 0.08207456 0.08243326\n",
      " 0.0825204  0.08258564 0.08261434 0.08326462 0.08339943 0.08379402\n",
      " 0.08380933 0.08449025 0.08451653 0.08516265 0.08551663 0.0858474\n",
      " 0.08590962 0.08617799 0.08663049 0.08702971 0.08743339 0.08768469\n",
      " 0.08780606 0.08793364 0.08824192 0.08884687 0.08914908 0.08948246\n",
      " 0.09042    0.09091412 0.09096844 0.09103113 0.09182305 0.09186592\n",
      " 0.09212464 0.09300912 0.09376759 0.09404427 0.09410175 0.09410243\n",
      " 0.09455569 0.0946746  0.09474571 0.0948946  0.09552803 0.09561282\n",
      " 0.09604832 0.09711032 0.09772415 0.09772552 0.09799159 0.09850038\n",
      " 0.09990679 0.10025051 0.10153029 0.1024509  0.10245508 0.10553747\n",
      " 0.10576943 0.10633635 0.10635324 0.10659407 0.10693029 0.10798752\n",
      " 0.10813292 0.10917162 0.10978382 0.10989864 0.11015646 0.11033933\n",
      " 0.11103158 0.11455102 0.11548685 0.11595783 0.11611362 0.11678057\n",
      " 0.11720235 0.12085265 0.12148842 0.12186148 0.12217339 0.12435295\n",
      " 0.12455616 0.12474041 0.12568102 0.13018009 0.13219974 0.13673602\n",
      " 0.13985939 0.14989669 0.17071515 0.18234627]\n",
      "--------\n",
      "\n",
      "--------\n",
      "\n",
      "Ковариация с метками признаков c ''cредней'' ковариацией:\n",
      " [4.37196949e-07 3.71364502e-05 1.18100986e-04 1.54830691e-04\n",
      " 2.09592084e-04 2.39070760e-04 3.02008884e-04 3.05767959e-04\n",
      " 3.36978859e-04 4.48258780e-04 4.54929860e-04 5.87822902e-04\n",
      " 6.88784510e-04 6.89815840e-04 7.86296648e-04 8.67188370e-04\n",
      " 8.94724906e-04 9.05934340e-04 9.26602831e-04 9.82279588e-04\n",
      " 1.01224552e-03 1.09843319e-03 1.11921561e-03 1.13517581e-03\n",
      " 1.31080432e-03 1.35112740e-03 1.46646998e-03 1.48974661e-03\n",
      " 1.66910521e-03 1.69449062e-03 1.71859821e-03 1.75079020e-03\n",
      " 1.75844468e-03 1.81368462e-03 1.86190439e-03 1.87292799e-03\n",
      " 1.95366172e-03 2.01250240e-03 2.03269138e-03 2.10372214e-03\n",
      " 2.10873035e-03 2.28036275e-03 2.35896726e-03 2.36607875e-03\n",
      " 2.39117929e-03 2.40421898e-03 2.64197757e-03 2.81884257e-03\n",
      " 2.87348115e-03 2.91779528e-03 2.93649709e-03 3.05692706e-03\n",
      " 3.08255627e-03 3.15157860e-03 3.16566728e-03 3.18757215e-03\n",
      " 3.18811074e-03 3.20315827e-03 3.21513998e-03 3.23492622e-03\n",
      " 3.25182264e-03 3.25309416e-03 3.31455964e-03 3.39788464e-03\n",
      " 3.49306877e-03 3.53801051e-03 3.54189695e-03 3.75429128e-03\n",
      " 3.79476768e-03 3.79581242e-03 3.85802247e-03 3.90610476e-03\n",
      " 3.98254168e-03 4.04704981e-03 4.06381861e-03 4.13222153e-03\n",
      " 4.24835148e-03 4.30185840e-03 4.34046669e-03 4.47010466e-03\n",
      " 4.47326713e-03 4.53822815e-03 4.60019624e-03 4.67505543e-03\n",
      " 4.69882360e-03 4.81556235e-03 4.88022566e-03 4.95273444e-03\n",
      " 4.97107413e-03 5.08215298e-03 5.08567390e-03 5.11885957e-03\n",
      " 5.14165601e-03 5.20693926e-03 5.33079617e-03 5.36329156e-03\n",
      " 5.41565964e-03 5.49945852e-03 5.56169064e-03 5.69010109e-03]\n",
      "CV score is 0.97\n"
     ]
    }
   ],
   "source": [
    "num_features_total = 1000\n",
    "num_features_best = 100\n",
    "\n",
    "N = 100\n",
    "\n",
    "# Dataset generation\n",
    "X = np.random.normal(size=(N, num_features_total))\n",
    "y = np.random.randint(2, size=N)\n",
    "\n",
    "# Feature selection:\n",
    "X_best = FeatureSelector(num_features_best).fit_transform_with_print(X, y)\n",
    "\n",
    "# Simple classification model\n",
    "model = LinearSVC()\n",
    "\n",
    "# Estimatin accuracy using cross-validation:\n",
    "cv_score = cross_val_score(model, X_best, y, scoring='accuracy', cv=10, n_jobs=-1).mean()\n",
    "print(f\"CV score is {cv_score}\")"
   ]
  },
  {
   "cell_type": "markdown",
   "metadata": {
    "id": "afadN3ZVFKjF"
   },
   "source": [
    "Таким образом, мы видим, что у отобранных признаков ковариация достигает 0.2, что на 2-3-4 порядка больше \"средней\" ковариации. Таким образом, мы поступаем нечестно, потому что мы вручную отобрали те признаки, которые линейно зависимы с метками и по ним строим нашу разделяющую плоскость. Чтобы проверить, что именно в этом причина столь выскокой accuracy, произведём все те же проверки, но при отборе признаков откажемся от привязки к ковариации (new_fit)."
   ]
  },
  {
   "cell_type": "code",
   "execution_count": 49,
   "metadata": {},
   "outputs": [
    {
     "data": {
      "image/png": "[encoded data removed]",
      "text/plain": [
       "<Figure size 432x288 with 1 Axes>"
      ]
     },
     "metadata": {
      "needs_background": "light"
     },
     "output_type": "display_data"
    }
   ],
   "source": [
    "num_features_total = 1000\n",
    "num_features_best = 100\n",
    "\n",
    "N = 100\n",
    "def experiment():\n",
    "  # Dataset generation\n",
    "  X = np.random.normal(size=(N, num_features_total))\n",
    "  y = np.random.randint(2, size=N)\n",
    "\n",
    "  # Feature selection:\n",
    "  X_best = FeatureSelector(num_features_best).new_fit_transform(X, y)\n",
    "\n",
    "  # Simple classification model\n",
    "  model = LinearSVC()\n",
    "\n",
    "  # Estimatin accuracy using cross-validation:\n",
    "  return cross_val_score(model, X_best, y, scoring='accuracy', cv=10, n_jobs=-1).mean()\n",
    "\n",
    "results = [experiment() for _ in range(100)]\n",
    "plt.hist(results, bins=10);"
   ]
  },
  {
   "cell_type": "markdown",
   "metadata": {
    "id": "afadN3ZVFKjF"
   },
   "source": [
    "Получили то, что и ожидали! Максимум на 50%."
   ]
  },
  {
   "cell_type": "code",
   "execution_count": null,
   "metadata": {},
   "outputs": [],
   "source": []
  }
 ],
 "metadata": {
  "colab": {
   "include_colab_link": true,
   "name": "MLatFIAN2021_seminar05_homework.ipynb",
   "provenance": []
  },
  "kernelspec": {
   "display_name": "Python 3",
   "language": "python",
   "name": "python3"
  },
  "language_info": {
   "codemirror_mode": {
    "name": "ipython",
    "version": 3
   },
   "file_extension": ".py",
   "mimetype": "text/x-python",
   "name": "python",
   "nbconvert_exporter": "python",
   "pygments_lexer": "ipython3",
   "version": "3.8.5"
  }
 },
 "nbformat": 4,
 "nbformat_minor": 4
}
